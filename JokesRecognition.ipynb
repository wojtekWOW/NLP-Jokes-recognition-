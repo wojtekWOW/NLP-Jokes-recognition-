{
  "nbformat": 4,
  "nbformat_minor": 0,
  "metadata": {
    "colab": {
      "provenance": [],
      "gpuType": "T4"
    },
    "kernelspec": {
      "name": "python3",
      "display_name": "Python 3"
    },
    "language_info": {
      "name": "python"
    },
    "accelerator": "GPU",
    "widgets": {
      "application/vnd.jupyter.widget-state+json": {
        "e35a28fbe8504cf0a9a4d9a9b8bad56f": {
          "model_module": "@jupyter-widgets/controls",
          "model_name": "HBoxModel",
          "model_module_version": "1.5.0",
          "state": {
            "_dom_classes": [],
            "_model_module": "@jupyter-widgets/controls",
            "_model_module_version": "1.5.0",
            "_model_name": "HBoxModel",
            "_view_count": null,
            "_view_module": "@jupyter-widgets/controls",
            "_view_module_version": "1.5.0",
            "_view_name": "HBoxView",
            "box_style": "",
            "children": [
              "IPY_MODEL_f20fd78f02c14bf982c8bb42c411a088",
              "IPY_MODEL_3d129df872844fd58007ee36b97b1c90",
              "IPY_MODEL_96a86eb53a9d431fb312a4f2a385faca"
            ],
            "layout": "IPY_MODEL_75cbb1c9d3f94dffb66a337324c6401f"
          }
        },
        "f20fd78f02c14bf982c8bb42c411a088": {
          "model_module": "@jupyter-widgets/controls",
          "model_name": "HTMLModel",
          "model_module_version": "1.5.0",
          "state": {
            "_dom_classes": [],
            "_model_module": "@jupyter-widgets/controls",
            "_model_module_version": "1.5.0",
            "_model_name": "HTMLModel",
            "_view_count": null,
            "_view_module": "@jupyter-widgets/controls",
            "_view_module_version": "1.5.0",
            "_view_name": "HTMLView",
            "description": "",
            "description_tooltip": null,
            "layout": "IPY_MODEL_6431a852c25d4cd6bba63ea991f5f9bd",
            "placeholder": "​",
            "style": "IPY_MODEL_5e294e489ab84c37bad49c2f0d550534",
            "value": "Map: 100%"
          }
        },
        "3d129df872844fd58007ee36b97b1c90": {
          "model_module": "@jupyter-widgets/controls",
          "model_name": "FloatProgressModel",
          "model_module_version": "1.5.0",
          "state": {
            "_dom_classes": [],
            "_model_module": "@jupyter-widgets/controls",
            "_model_module_version": "1.5.0",
            "_model_name": "FloatProgressModel",
            "_view_count": null,
            "_view_module": "@jupyter-widgets/controls",
            "_view_module_version": "1.5.0",
            "_view_name": "ProgressView",
            "bar_style": "success",
            "description": "",
            "description_tooltip": null,
            "layout": "IPY_MODEL_e1910f8065c94174837e3b0a6fb5c0d1",
            "max": 160000,
            "min": 0,
            "orientation": "horizontal",
            "style": "IPY_MODEL_775033a21d994631a19860b9e8e50faa",
            "value": 160000
          }
        },
        "96a86eb53a9d431fb312a4f2a385faca": {
          "model_module": "@jupyter-widgets/controls",
          "model_name": "HTMLModel",
          "model_module_version": "1.5.0",
          "state": {
            "_dom_classes": [],
            "_model_module": "@jupyter-widgets/controls",
            "_model_module_version": "1.5.0",
            "_model_name": "HTMLModel",
            "_view_count": null,
            "_view_module": "@jupyter-widgets/controls",
            "_view_module_version": "1.5.0",
            "_view_name": "HTMLView",
            "description": "",
            "description_tooltip": null,
            "layout": "IPY_MODEL_f9b6337ce6b144a29d3f826843653f50",
            "placeholder": "​",
            "style": "IPY_MODEL_0afc2406f5cf40bfa499d00165618450",
            "value": " 160000/160000 [00:52&lt;00:00, 2808.07 examples/s]"
          }
        },
        "75cbb1c9d3f94dffb66a337324c6401f": {
          "model_module": "@jupyter-widgets/base",
          "model_name": "LayoutModel",
          "model_module_version": "1.2.0",
          "state": {
            "_model_module": "@jupyter-widgets/base",
            "_model_module_version": "1.2.0",
            "_model_name": "LayoutModel",
            "_view_count": null,
            "_view_module": "@jupyter-widgets/base",
            "_view_module_version": "1.2.0",
            "_view_name": "LayoutView",
            "align_content": null,
            "align_items": null,
            "align_self": null,
            "border": null,
            "bottom": null,
            "display": null,
            "flex": null,
            "flex_flow": null,
            "grid_area": null,
            "grid_auto_columns": null,
            "grid_auto_flow": null,
            "grid_auto_rows": null,
            "grid_column": null,
            "grid_gap": null,
            "grid_row": null,
            "grid_template_areas": null,
            "grid_template_columns": null,
            "grid_template_rows": null,
            "height": null,
            "justify_content": null,
            "justify_items": null,
            "left": null,
            "margin": null,
            "max_height": null,
            "max_width": null,
            "min_height": null,
            "min_width": null,
            "object_fit": null,
            "object_position": null,
            "order": null,
            "overflow": null,
            "overflow_x": null,
            "overflow_y": null,
            "padding": null,
            "right": null,
            "top": null,
            "visibility": null,
            "width": null
          }
        },
        "6431a852c25d4cd6bba63ea991f5f9bd": {
          "model_module": "@jupyter-widgets/base",
          "model_name": "LayoutModel",
          "model_module_version": "1.2.0",
          "state": {
            "_model_module": "@jupyter-widgets/base",
            "_model_module_version": "1.2.0",
            "_model_name": "LayoutModel",
            "_view_count": null,
            "_view_module": "@jupyter-widgets/base",
            "_view_module_version": "1.2.0",
            "_view_name": "LayoutView",
            "align_content": null,
            "align_items": null,
            "align_self": null,
            "border": null,
            "bottom": null,
            "display": null,
            "flex": null,
            "flex_flow": null,
            "grid_area": null,
            "grid_auto_columns": null,
            "grid_auto_flow": null,
            "grid_auto_rows": null,
            "grid_column": null,
            "grid_gap": null,
            "grid_row": null,
            "grid_template_areas": null,
            "grid_template_columns": null,
            "grid_template_rows": null,
            "height": null,
            "justify_content": null,
            "justify_items": null,
            "left": null,
            "margin": null,
            "max_height": null,
            "max_width": null,
            "min_height": null,
            "min_width": null,
            "object_fit": null,
            "object_position": null,
            "order": null,
            "overflow": null,
            "overflow_x": null,
            "overflow_y": null,
            "padding": null,
            "right": null,
            "top": null,
            "visibility": null,
            "width": null
          }
        },
        "5e294e489ab84c37bad49c2f0d550534": {
          "model_module": "@jupyter-widgets/controls",
          "model_name": "DescriptionStyleModel",
          "model_module_version": "1.5.0",
          "state": {
            "_model_module": "@jupyter-widgets/controls",
            "_model_module_version": "1.5.0",
            "_model_name": "DescriptionStyleModel",
            "_view_count": null,
            "_view_module": "@jupyter-widgets/base",
            "_view_module_version": "1.2.0",
            "_view_name": "StyleView",
            "description_width": ""
          }
        },
        "e1910f8065c94174837e3b0a6fb5c0d1": {
          "model_module": "@jupyter-widgets/base",
          "model_name": "LayoutModel",
          "model_module_version": "1.2.0",
          "state": {
            "_model_module": "@jupyter-widgets/base",
            "_model_module_version": "1.2.0",
            "_model_name": "LayoutModel",
            "_view_count": null,
            "_view_module": "@jupyter-widgets/base",
            "_view_module_version": "1.2.0",
            "_view_name": "LayoutView",
            "align_content": null,
            "align_items": null,
            "align_self": null,
            "border": null,
            "bottom": null,
            "display": null,
            "flex": null,
            "flex_flow": null,
            "grid_area": null,
            "grid_auto_columns": null,
            "grid_auto_flow": null,
            "grid_auto_rows": null,
            "grid_column": null,
            "grid_gap": null,
            "grid_row": null,
            "grid_template_areas": null,
            "grid_template_columns": null,
            "grid_template_rows": null,
            "height": null,
            "justify_content": null,
            "justify_items": null,
            "left": null,
            "margin": null,
            "max_height": null,
            "max_width": null,
            "min_height": null,
            "min_width": null,
            "object_fit": null,
            "object_position": null,
            "order": null,
            "overflow": null,
            "overflow_x": null,
            "overflow_y": null,
            "padding": null,
            "right": null,
            "top": null,
            "visibility": null,
            "width": null
          }
        },
        "775033a21d994631a19860b9e8e50faa": {
          "model_module": "@jupyter-widgets/controls",
          "model_name": "ProgressStyleModel",
          "model_module_version": "1.5.0",
          "state": {
            "_model_module": "@jupyter-widgets/controls",
            "_model_module_version": "1.5.0",
            "_model_name": "ProgressStyleModel",
            "_view_count": null,
            "_view_module": "@jupyter-widgets/base",
            "_view_module_version": "1.2.0",
            "_view_name": "StyleView",
            "bar_color": null,
            "description_width": ""
          }
        },
        "f9b6337ce6b144a29d3f826843653f50": {
          "model_module": "@jupyter-widgets/base",
          "model_name": "LayoutModel",
          "model_module_version": "1.2.0",
          "state": {
            "_model_module": "@jupyter-widgets/base",
            "_model_module_version": "1.2.0",
            "_model_name": "LayoutModel",
            "_view_count": null,
            "_view_module": "@jupyter-widgets/base",
            "_view_module_version": "1.2.0",
            "_view_name": "LayoutView",
            "align_content": null,
            "align_items": null,
            "align_self": null,
            "border": null,
            "bottom": null,
            "display": null,
            "flex": null,
            "flex_flow": null,
            "grid_area": null,
            "grid_auto_columns": null,
            "grid_auto_flow": null,
            "grid_auto_rows": null,
            "grid_column": null,
            "grid_gap": null,
            "grid_row": null,
            "grid_template_areas": null,
            "grid_template_columns": null,
            "grid_template_rows": null,
            "height": null,
            "justify_content": null,
            "justify_items": null,
            "left": null,
            "margin": null,
            "max_height": null,
            "max_width": null,
            "min_height": null,
            "min_width": null,
            "object_fit": null,
            "object_position": null,
            "order": null,
            "overflow": null,
            "overflow_x": null,
            "overflow_y": null,
            "padding": null,
            "right": null,
            "top": null,
            "visibility": null,
            "width": null
          }
        },
        "0afc2406f5cf40bfa499d00165618450": {
          "model_module": "@jupyter-widgets/controls",
          "model_name": "DescriptionStyleModel",
          "model_module_version": "1.5.0",
          "state": {
            "_model_module": "@jupyter-widgets/controls",
            "_model_module_version": "1.5.0",
            "_model_name": "DescriptionStyleModel",
            "_view_count": null,
            "_view_module": "@jupyter-widgets/base",
            "_view_module_version": "1.2.0",
            "_view_name": "StyleView",
            "description_width": ""
          }
        },
        "d454cb97df75494fa6fa64abcb0be06c": {
          "model_module": "@jupyter-widgets/controls",
          "model_name": "HBoxModel",
          "model_module_version": "1.5.0",
          "state": {
            "_dom_classes": [],
            "_model_module": "@jupyter-widgets/controls",
            "_model_module_version": "1.5.0",
            "_model_name": "HBoxModel",
            "_view_count": null,
            "_view_module": "@jupyter-widgets/controls",
            "_view_module_version": "1.5.0",
            "_view_name": "HBoxView",
            "box_style": "",
            "children": [
              "IPY_MODEL_4b17dead8cb445c3bfc176feadf4ab94",
              "IPY_MODEL_287b3ab383e546d2814ab0ca86c555f0",
              "IPY_MODEL_840a7bfd672644ecb38d12f0087347a0"
            ],
            "layout": "IPY_MODEL_7ecd4595ea7846b1bb9071fba0bd2d62"
          }
        },
        "4b17dead8cb445c3bfc176feadf4ab94": {
          "model_module": "@jupyter-widgets/controls",
          "model_name": "HTMLModel",
          "model_module_version": "1.5.0",
          "state": {
            "_dom_classes": [],
            "_model_module": "@jupyter-widgets/controls",
            "_model_module_version": "1.5.0",
            "_model_name": "HTMLModel",
            "_view_count": null,
            "_view_module": "@jupyter-widgets/controls",
            "_view_module_version": "1.5.0",
            "_view_name": "HTMLView",
            "description": "",
            "description_tooltip": null,
            "layout": "IPY_MODEL_73982eef1008480b8ded76df3bee7960",
            "placeholder": "​",
            "style": "IPY_MODEL_8b2880c45b1e46ba9519af9eca8eb57f",
            "value": "Map: 100%"
          }
        },
        "287b3ab383e546d2814ab0ca86c555f0": {
          "model_module": "@jupyter-widgets/controls",
          "model_name": "FloatProgressModel",
          "model_module_version": "1.5.0",
          "state": {
            "_dom_classes": [],
            "_model_module": "@jupyter-widgets/controls",
            "_model_module_version": "1.5.0",
            "_model_name": "FloatProgressModel",
            "_view_count": null,
            "_view_module": "@jupyter-widgets/controls",
            "_view_module_version": "1.5.0",
            "_view_name": "ProgressView",
            "bar_style": "success",
            "description": "",
            "description_tooltip": null,
            "layout": "IPY_MODEL_bf106325f76f468e8ddfa8287dc55769",
            "max": 20000,
            "min": 0,
            "orientation": "horizontal",
            "style": "IPY_MODEL_0a7f20c47ab64674a3cb4b7a9fe9665d",
            "value": 20000
          }
        },
        "840a7bfd672644ecb38d12f0087347a0": {
          "model_module": "@jupyter-widgets/controls",
          "model_name": "HTMLModel",
          "model_module_version": "1.5.0",
          "state": {
            "_dom_classes": [],
            "_model_module": "@jupyter-widgets/controls",
            "_model_module_version": "1.5.0",
            "_model_name": "HTMLModel",
            "_view_count": null,
            "_view_module": "@jupyter-widgets/controls",
            "_view_module_version": "1.5.0",
            "_view_name": "HTMLView",
            "description": "",
            "description_tooltip": null,
            "layout": "IPY_MODEL_083eb0dd157041e8acde770e22509091",
            "placeholder": "​",
            "style": "IPY_MODEL_e535ede504144e7eb06307d4da31b8bc",
            "value": " 20000/20000 [00:05&lt;00:00, 4223.06 examples/s]"
          }
        },
        "7ecd4595ea7846b1bb9071fba0bd2d62": {
          "model_module": "@jupyter-widgets/base",
          "model_name": "LayoutModel",
          "model_module_version": "1.2.0",
          "state": {
            "_model_module": "@jupyter-widgets/base",
            "_model_module_version": "1.2.0",
            "_model_name": "LayoutModel",
            "_view_count": null,
            "_view_module": "@jupyter-widgets/base",
            "_view_module_version": "1.2.0",
            "_view_name": "LayoutView",
            "align_content": null,
            "align_items": null,
            "align_self": null,
            "border": null,
            "bottom": null,
            "display": null,
            "flex": null,
            "flex_flow": null,
            "grid_area": null,
            "grid_auto_columns": null,
            "grid_auto_flow": null,
            "grid_auto_rows": null,
            "grid_column": null,
            "grid_gap": null,
            "grid_row": null,
            "grid_template_areas": null,
            "grid_template_columns": null,
            "grid_template_rows": null,
            "height": null,
            "justify_content": null,
            "justify_items": null,
            "left": null,
            "margin": null,
            "max_height": null,
            "max_width": null,
            "min_height": null,
            "min_width": null,
            "object_fit": null,
            "object_position": null,
            "order": null,
            "overflow": null,
            "overflow_x": null,
            "overflow_y": null,
            "padding": null,
            "right": null,
            "top": null,
            "visibility": null,
            "width": null
          }
        },
        "73982eef1008480b8ded76df3bee7960": {
          "model_module": "@jupyter-widgets/base",
          "model_name": "LayoutModel",
          "model_module_version": "1.2.0",
          "state": {
            "_model_module": "@jupyter-widgets/base",
            "_model_module_version": "1.2.0",
            "_model_name": "LayoutModel",
            "_view_count": null,
            "_view_module": "@jupyter-widgets/base",
            "_view_module_version": "1.2.0",
            "_view_name": "LayoutView",
            "align_content": null,
            "align_items": null,
            "align_self": null,
            "border": null,
            "bottom": null,
            "display": null,
            "flex": null,
            "flex_flow": null,
            "grid_area": null,
            "grid_auto_columns": null,
            "grid_auto_flow": null,
            "grid_auto_rows": null,
            "grid_column": null,
            "grid_gap": null,
            "grid_row": null,
            "grid_template_areas": null,
            "grid_template_columns": null,
            "grid_template_rows": null,
            "height": null,
            "justify_content": null,
            "justify_items": null,
            "left": null,
            "margin": null,
            "max_height": null,
            "max_width": null,
            "min_height": null,
            "min_width": null,
            "object_fit": null,
            "object_position": null,
            "order": null,
            "overflow": null,
            "overflow_x": null,
            "overflow_y": null,
            "padding": null,
            "right": null,
            "top": null,
            "visibility": null,
            "width": null
          }
        },
        "8b2880c45b1e46ba9519af9eca8eb57f": {
          "model_module": "@jupyter-widgets/controls",
          "model_name": "DescriptionStyleModel",
          "model_module_version": "1.5.0",
          "state": {
            "_model_module": "@jupyter-widgets/controls",
            "_model_module_version": "1.5.0",
            "_model_name": "DescriptionStyleModel",
            "_view_count": null,
            "_view_module": "@jupyter-widgets/base",
            "_view_module_version": "1.2.0",
            "_view_name": "StyleView",
            "description_width": ""
          }
        },
        "bf106325f76f468e8ddfa8287dc55769": {
          "model_module": "@jupyter-widgets/base",
          "model_name": "LayoutModel",
          "model_module_version": "1.2.0",
          "state": {
            "_model_module": "@jupyter-widgets/base",
            "_model_module_version": "1.2.0",
            "_model_name": "LayoutModel",
            "_view_count": null,
            "_view_module": "@jupyter-widgets/base",
            "_view_module_version": "1.2.0",
            "_view_name": "LayoutView",
            "align_content": null,
            "align_items": null,
            "align_self": null,
            "border": null,
            "bottom": null,
            "display": null,
            "flex": null,
            "flex_flow": null,
            "grid_area": null,
            "grid_auto_columns": null,
            "grid_auto_flow": null,
            "grid_auto_rows": null,
            "grid_column": null,
            "grid_gap": null,
            "grid_row": null,
            "grid_template_areas": null,
            "grid_template_columns": null,
            "grid_template_rows": null,
            "height": null,
            "justify_content": null,
            "justify_items": null,
            "left": null,
            "margin": null,
            "max_height": null,
            "max_width": null,
            "min_height": null,
            "min_width": null,
            "object_fit": null,
            "object_position": null,
            "order": null,
            "overflow": null,
            "overflow_x": null,
            "overflow_y": null,
            "padding": null,
            "right": null,
            "top": null,
            "visibility": null,
            "width": null
          }
        },
        "0a7f20c47ab64674a3cb4b7a9fe9665d": {
          "model_module": "@jupyter-widgets/controls",
          "model_name": "ProgressStyleModel",
          "model_module_version": "1.5.0",
          "state": {
            "_model_module": "@jupyter-widgets/controls",
            "_model_module_version": "1.5.0",
            "_model_name": "ProgressStyleModel",
            "_view_count": null,
            "_view_module": "@jupyter-widgets/base",
            "_view_module_version": "1.2.0",
            "_view_name": "StyleView",
            "bar_color": null,
            "description_width": ""
          }
        },
        "083eb0dd157041e8acde770e22509091": {
          "model_module": "@jupyter-widgets/base",
          "model_name": "LayoutModel",
          "model_module_version": "1.2.0",
          "state": {
            "_model_module": "@jupyter-widgets/base",
            "_model_module_version": "1.2.0",
            "_model_name": "LayoutModel",
            "_view_count": null,
            "_view_module": "@jupyter-widgets/base",
            "_view_module_version": "1.2.0",
            "_view_name": "LayoutView",
            "align_content": null,
            "align_items": null,
            "align_self": null,
            "border": null,
            "bottom": null,
            "display": null,
            "flex": null,
            "flex_flow": null,
            "grid_area": null,
            "grid_auto_columns": null,
            "grid_auto_flow": null,
            "grid_auto_rows": null,
            "grid_column": null,
            "grid_gap": null,
            "grid_row": null,
            "grid_template_areas": null,
            "grid_template_columns": null,
            "grid_template_rows": null,
            "height": null,
            "justify_content": null,
            "justify_items": null,
            "left": null,
            "margin": null,
            "max_height": null,
            "max_width": null,
            "min_height": null,
            "min_width": null,
            "object_fit": null,
            "object_position": null,
            "order": null,
            "overflow": null,
            "overflow_x": null,
            "overflow_y": null,
            "padding": null,
            "right": null,
            "top": null,
            "visibility": null,
            "width": null
          }
        },
        "e535ede504144e7eb06307d4da31b8bc": {
          "model_module": "@jupyter-widgets/controls",
          "model_name": "DescriptionStyleModel",
          "model_module_version": "1.5.0",
          "state": {
            "_model_module": "@jupyter-widgets/controls",
            "_model_module_version": "1.5.0",
            "_model_name": "DescriptionStyleModel",
            "_view_count": null,
            "_view_module": "@jupyter-widgets/base",
            "_view_module_version": "1.2.0",
            "_view_name": "StyleView",
            "description_width": ""
          }
        },
        "79ccb698ff2e470289cde8e6e04fca9a": {
          "model_module": "@jupyter-widgets/controls",
          "model_name": "HBoxModel",
          "model_module_version": "1.5.0",
          "state": {
            "_dom_classes": [],
            "_model_module": "@jupyter-widgets/controls",
            "_model_module_version": "1.5.0",
            "_model_name": "HBoxModel",
            "_view_count": null,
            "_view_module": "@jupyter-widgets/controls",
            "_view_module_version": "1.5.0",
            "_view_name": "HBoxView",
            "box_style": "",
            "children": [
              "IPY_MODEL_e4d42cc5f4314df49af425f52c65c1f1",
              "IPY_MODEL_b8f9b4d73f154211b3f3af54229ddfcd",
              "IPY_MODEL_a646e90f25d444beb8bcdd174256d00e"
            ],
            "layout": "IPY_MODEL_7b6208634aef42e1b1ed9f7696edd7f8"
          }
        },
        "e4d42cc5f4314df49af425f52c65c1f1": {
          "model_module": "@jupyter-widgets/controls",
          "model_name": "HTMLModel",
          "model_module_version": "1.5.0",
          "state": {
            "_dom_classes": [],
            "_model_module": "@jupyter-widgets/controls",
            "_model_module_version": "1.5.0",
            "_model_name": "HTMLModel",
            "_view_count": null,
            "_view_module": "@jupyter-widgets/controls",
            "_view_module_version": "1.5.0",
            "_view_name": "HTMLView",
            "description": "",
            "description_tooltip": null,
            "layout": "IPY_MODEL_e895f3d01de245f1adfc95aa1a2e0af2",
            "placeholder": "​",
            "style": "IPY_MODEL_65a401c236cc4f53a51d121c2f4f04cf",
            "value": "Map: 100%"
          }
        },
        "b8f9b4d73f154211b3f3af54229ddfcd": {
          "model_module": "@jupyter-widgets/controls",
          "model_name": "FloatProgressModel",
          "model_module_version": "1.5.0",
          "state": {
            "_dom_classes": [],
            "_model_module": "@jupyter-widgets/controls",
            "_model_module_version": "1.5.0",
            "_model_name": "FloatProgressModel",
            "_view_count": null,
            "_view_module": "@jupyter-widgets/controls",
            "_view_module_version": "1.5.0",
            "_view_name": "ProgressView",
            "bar_style": "success",
            "description": "",
            "description_tooltip": null,
            "layout": "IPY_MODEL_314cb239cbf54deb92bf2edafa4444eb",
            "max": 20000,
            "min": 0,
            "orientation": "horizontal",
            "style": "IPY_MODEL_8eecb0f3d35f46a8bb7ba6d8014ad180",
            "value": 20000
          }
        },
        "a646e90f25d444beb8bcdd174256d00e": {
          "model_module": "@jupyter-widgets/controls",
          "model_name": "HTMLModel",
          "model_module_version": "1.5.0",
          "state": {
            "_dom_classes": [],
            "_model_module": "@jupyter-widgets/controls",
            "_model_module_version": "1.5.0",
            "_model_name": "HTMLModel",
            "_view_count": null,
            "_view_module": "@jupyter-widgets/controls",
            "_view_module_version": "1.5.0",
            "_view_name": "HTMLView",
            "description": "",
            "description_tooltip": null,
            "layout": "IPY_MODEL_502fa3cee321424ba70a54a6e6666e42",
            "placeholder": "​",
            "style": "IPY_MODEL_880ed8d2759d4538bf3c14acb4961dd2",
            "value": " 20000/20000 [00:04&lt;00:00, 4319.91 examples/s]"
          }
        },
        "7b6208634aef42e1b1ed9f7696edd7f8": {
          "model_module": "@jupyter-widgets/base",
          "model_name": "LayoutModel",
          "model_module_version": "1.2.0",
          "state": {
            "_model_module": "@jupyter-widgets/base",
            "_model_module_version": "1.2.0",
            "_model_name": "LayoutModel",
            "_view_count": null,
            "_view_module": "@jupyter-widgets/base",
            "_view_module_version": "1.2.0",
            "_view_name": "LayoutView",
            "align_content": null,
            "align_items": null,
            "align_self": null,
            "border": null,
            "bottom": null,
            "display": null,
            "flex": null,
            "flex_flow": null,
            "grid_area": null,
            "grid_auto_columns": null,
            "grid_auto_flow": null,
            "grid_auto_rows": null,
            "grid_column": null,
            "grid_gap": null,
            "grid_row": null,
            "grid_template_areas": null,
            "grid_template_columns": null,
            "grid_template_rows": null,
            "height": null,
            "justify_content": null,
            "justify_items": null,
            "left": null,
            "margin": null,
            "max_height": null,
            "max_width": null,
            "min_height": null,
            "min_width": null,
            "object_fit": null,
            "object_position": null,
            "order": null,
            "overflow": null,
            "overflow_x": null,
            "overflow_y": null,
            "padding": null,
            "right": null,
            "top": null,
            "visibility": null,
            "width": null
          }
        },
        "e895f3d01de245f1adfc95aa1a2e0af2": {
          "model_module": "@jupyter-widgets/base",
          "model_name": "LayoutModel",
          "model_module_version": "1.2.0",
          "state": {
            "_model_module": "@jupyter-widgets/base",
            "_model_module_version": "1.2.0",
            "_model_name": "LayoutModel",
            "_view_count": null,
            "_view_module": "@jupyter-widgets/base",
            "_view_module_version": "1.2.0",
            "_view_name": "LayoutView",
            "align_content": null,
            "align_items": null,
            "align_self": null,
            "border": null,
            "bottom": null,
            "display": null,
            "flex": null,
            "flex_flow": null,
            "grid_area": null,
            "grid_auto_columns": null,
            "grid_auto_flow": null,
            "grid_auto_rows": null,
            "grid_column": null,
            "grid_gap": null,
            "grid_row": null,
            "grid_template_areas": null,
            "grid_template_columns": null,
            "grid_template_rows": null,
            "height": null,
            "justify_content": null,
            "justify_items": null,
            "left": null,
            "margin": null,
            "max_height": null,
            "max_width": null,
            "min_height": null,
            "min_width": null,
            "object_fit": null,
            "object_position": null,
            "order": null,
            "overflow": null,
            "overflow_x": null,
            "overflow_y": null,
            "padding": null,
            "right": null,
            "top": null,
            "visibility": null,
            "width": null
          }
        },
        "65a401c236cc4f53a51d121c2f4f04cf": {
          "model_module": "@jupyter-widgets/controls",
          "model_name": "DescriptionStyleModel",
          "model_module_version": "1.5.0",
          "state": {
            "_model_module": "@jupyter-widgets/controls",
            "_model_module_version": "1.5.0",
            "_model_name": "DescriptionStyleModel",
            "_view_count": null,
            "_view_module": "@jupyter-widgets/base",
            "_view_module_version": "1.2.0",
            "_view_name": "StyleView",
            "description_width": ""
          }
        },
        "314cb239cbf54deb92bf2edafa4444eb": {
          "model_module": "@jupyter-widgets/base",
          "model_name": "LayoutModel",
          "model_module_version": "1.2.0",
          "state": {
            "_model_module": "@jupyter-widgets/base",
            "_model_module_version": "1.2.0",
            "_model_name": "LayoutModel",
            "_view_count": null,
            "_view_module": "@jupyter-widgets/base",
            "_view_module_version": "1.2.0",
            "_view_name": "LayoutView",
            "align_content": null,
            "align_items": null,
            "align_self": null,
            "border": null,
            "bottom": null,
            "display": null,
            "flex": null,
            "flex_flow": null,
            "grid_area": null,
            "grid_auto_columns": null,
            "grid_auto_flow": null,
            "grid_auto_rows": null,
            "grid_column": null,
            "grid_gap": null,
            "grid_row": null,
            "grid_template_areas": null,
            "grid_template_columns": null,
            "grid_template_rows": null,
            "height": null,
            "justify_content": null,
            "justify_items": null,
            "left": null,
            "margin": null,
            "max_height": null,
            "max_width": null,
            "min_height": null,
            "min_width": null,
            "object_fit": null,
            "object_position": null,
            "order": null,
            "overflow": null,
            "overflow_x": null,
            "overflow_y": null,
            "padding": null,
            "right": null,
            "top": null,
            "visibility": null,
            "width": null
          }
        },
        "8eecb0f3d35f46a8bb7ba6d8014ad180": {
          "model_module": "@jupyter-widgets/controls",
          "model_name": "ProgressStyleModel",
          "model_module_version": "1.5.0",
          "state": {
            "_model_module": "@jupyter-widgets/controls",
            "_model_module_version": "1.5.0",
            "_model_name": "ProgressStyleModel",
            "_view_count": null,
            "_view_module": "@jupyter-widgets/base",
            "_view_module_version": "1.2.0",
            "_view_name": "StyleView",
            "bar_color": null,
            "description_width": ""
          }
        },
        "502fa3cee321424ba70a54a6e6666e42": {
          "model_module": "@jupyter-widgets/base",
          "model_name": "LayoutModel",
          "model_module_version": "1.2.0",
          "state": {
            "_model_module": "@jupyter-widgets/base",
            "_model_module_version": "1.2.0",
            "_model_name": "LayoutModel",
            "_view_count": null,
            "_view_module": "@jupyter-widgets/base",
            "_view_module_version": "1.2.0",
            "_view_name": "LayoutView",
            "align_content": null,
            "align_items": null,
            "align_self": null,
            "border": null,
            "bottom": null,
            "display": null,
            "flex": null,
            "flex_flow": null,
            "grid_area": null,
            "grid_auto_columns": null,
            "grid_auto_flow": null,
            "grid_auto_rows": null,
            "grid_column": null,
            "grid_gap": null,
            "grid_row": null,
            "grid_template_areas": null,
            "grid_template_columns": null,
            "grid_template_rows": null,
            "height": null,
            "justify_content": null,
            "justify_items": null,
            "left": null,
            "margin": null,
            "max_height": null,
            "max_width": null,
            "min_height": null,
            "min_width": null,
            "object_fit": null,
            "object_position": null,
            "order": null,
            "overflow": null,
            "overflow_x": null,
            "overflow_y": null,
            "padding": null,
            "right": null,
            "top": null,
            "visibility": null,
            "width": null
          }
        },
        "880ed8d2759d4538bf3c14acb4961dd2": {
          "model_module": "@jupyter-widgets/controls",
          "model_name": "DescriptionStyleModel",
          "model_module_version": "1.5.0",
          "state": {
            "_model_module": "@jupyter-widgets/controls",
            "_model_module_version": "1.5.0",
            "_model_name": "DescriptionStyleModel",
            "_view_count": null,
            "_view_module": "@jupyter-widgets/base",
            "_view_module_version": "1.2.0",
            "_view_name": "StyleView",
            "description_width": ""
          }
        },
        "a250a11b7eee4d7e8120f79c3016eba7": {
          "model_module": "@jupyter-widgets/controls",
          "model_name": "HBoxModel",
          "model_module_version": "1.5.0",
          "state": {
            "_dom_classes": [],
            "_model_module": "@jupyter-widgets/controls",
            "_model_module_version": "1.5.0",
            "_model_name": "HBoxModel",
            "_view_count": null,
            "_view_module": "@jupyter-widgets/controls",
            "_view_module_version": "1.5.0",
            "_view_name": "HBoxView",
            "box_style": "",
            "children": [
              "IPY_MODEL_a8f21aa6ced14f67a53df8dc690b05ca",
              "IPY_MODEL_3628017753b04944a456b84d6e204d3f",
              "IPY_MODEL_7b3e35ae93d04653a8d81579ed8faf85"
            ],
            "layout": "IPY_MODEL_e26712fd4f784042a4bd12a0284473e6"
          }
        },
        "a8f21aa6ced14f67a53df8dc690b05ca": {
          "model_module": "@jupyter-widgets/controls",
          "model_name": "HTMLModel",
          "model_module_version": "1.5.0",
          "state": {
            "_dom_classes": [],
            "_model_module": "@jupyter-widgets/controls",
            "_model_module_version": "1.5.0",
            "_model_name": "HTMLModel",
            "_view_count": null,
            "_view_module": "@jupyter-widgets/controls",
            "_view_module_version": "1.5.0",
            "_view_name": "HTMLView",
            "description": "",
            "description_tooltip": null,
            "layout": "IPY_MODEL_552b4e6398fc45459acbc9701cbb3478",
            "placeholder": "​",
            "style": "IPY_MODEL_be2960c8164a42f2bedca9f856516142",
            "value": "model.safetensors: 100%"
          }
        },
        "3628017753b04944a456b84d6e204d3f": {
          "model_module": "@jupyter-widgets/controls",
          "model_name": "FloatProgressModel",
          "model_module_version": "1.5.0",
          "state": {
            "_dom_classes": [],
            "_model_module": "@jupyter-widgets/controls",
            "_model_module_version": "1.5.0",
            "_model_name": "FloatProgressModel",
            "_view_count": null,
            "_view_module": "@jupyter-widgets/controls",
            "_view_module_version": "1.5.0",
            "_view_name": "ProgressView",
            "bar_style": "success",
            "description": "",
            "description_tooltip": null,
            "layout": "IPY_MODEL_9b3242cd4e664fab85852719f9228bf2",
            "max": 47372894,
            "min": 0,
            "orientation": "horizontal",
            "style": "IPY_MODEL_d8ed011f1a36427ea0dc43b9e6c89bfb",
            "value": 47372894
          }
        },
        "7b3e35ae93d04653a8d81579ed8faf85": {
          "model_module": "@jupyter-widgets/controls",
          "model_name": "HTMLModel",
          "model_module_version": "1.5.0",
          "state": {
            "_dom_classes": [],
            "_model_module": "@jupyter-widgets/controls",
            "_model_module_version": "1.5.0",
            "_model_name": "HTMLModel",
            "_view_count": null,
            "_view_module": "@jupyter-widgets/controls",
            "_view_module_version": "1.5.0",
            "_view_name": "HTMLView",
            "description": "",
            "description_tooltip": null,
            "layout": "IPY_MODEL_931bb84569e64ea1b748453358a231c1",
            "placeholder": "​",
            "style": "IPY_MODEL_e54b49a4001140aba40e3c49dd96ef7b",
            "value": " 47.4M/47.4M [00:00&lt;00:00, 193MB/s]"
          }
        },
        "e26712fd4f784042a4bd12a0284473e6": {
          "model_module": "@jupyter-widgets/base",
          "model_name": "LayoutModel",
          "model_module_version": "1.2.0",
          "state": {
            "_model_module": "@jupyter-widgets/base",
            "_model_module_version": "1.2.0",
            "_model_name": "LayoutModel",
            "_view_count": null,
            "_view_module": "@jupyter-widgets/base",
            "_view_module_version": "1.2.0",
            "_view_name": "LayoutView",
            "align_content": null,
            "align_items": null,
            "align_self": null,
            "border": null,
            "bottom": null,
            "display": null,
            "flex": null,
            "flex_flow": null,
            "grid_area": null,
            "grid_auto_columns": null,
            "grid_auto_flow": null,
            "grid_auto_rows": null,
            "grid_column": null,
            "grid_gap": null,
            "grid_row": null,
            "grid_template_areas": null,
            "grid_template_columns": null,
            "grid_template_rows": null,
            "height": null,
            "justify_content": null,
            "justify_items": null,
            "left": null,
            "margin": null,
            "max_height": null,
            "max_width": null,
            "min_height": null,
            "min_width": null,
            "object_fit": null,
            "object_position": null,
            "order": null,
            "overflow": null,
            "overflow_x": null,
            "overflow_y": null,
            "padding": null,
            "right": null,
            "top": null,
            "visibility": null,
            "width": null
          }
        },
        "552b4e6398fc45459acbc9701cbb3478": {
          "model_module": "@jupyter-widgets/base",
          "model_name": "LayoutModel",
          "model_module_version": "1.2.0",
          "state": {
            "_model_module": "@jupyter-widgets/base",
            "_model_module_version": "1.2.0",
            "_model_name": "LayoutModel",
            "_view_count": null,
            "_view_module": "@jupyter-widgets/base",
            "_view_module_version": "1.2.0",
            "_view_name": "LayoutView",
            "align_content": null,
            "align_items": null,
            "align_self": null,
            "border": null,
            "bottom": null,
            "display": null,
            "flex": null,
            "flex_flow": null,
            "grid_area": null,
            "grid_auto_columns": null,
            "grid_auto_flow": null,
            "grid_auto_rows": null,
            "grid_column": null,
            "grid_gap": null,
            "grid_row": null,
            "grid_template_areas": null,
            "grid_template_columns": null,
            "grid_template_rows": null,
            "height": null,
            "justify_content": null,
            "justify_items": null,
            "left": null,
            "margin": null,
            "max_height": null,
            "max_width": null,
            "min_height": null,
            "min_width": null,
            "object_fit": null,
            "object_position": null,
            "order": null,
            "overflow": null,
            "overflow_x": null,
            "overflow_y": null,
            "padding": null,
            "right": null,
            "top": null,
            "visibility": null,
            "width": null
          }
        },
        "be2960c8164a42f2bedca9f856516142": {
          "model_module": "@jupyter-widgets/controls",
          "model_name": "DescriptionStyleModel",
          "model_module_version": "1.5.0",
          "state": {
            "_model_module": "@jupyter-widgets/controls",
            "_model_module_version": "1.5.0",
            "_model_name": "DescriptionStyleModel",
            "_view_count": null,
            "_view_module": "@jupyter-widgets/base",
            "_view_module_version": "1.2.0",
            "_view_name": "StyleView",
            "description_width": ""
          }
        },
        "9b3242cd4e664fab85852719f9228bf2": {
          "model_module": "@jupyter-widgets/base",
          "model_name": "LayoutModel",
          "model_module_version": "1.2.0",
          "state": {
            "_model_module": "@jupyter-widgets/base",
            "_model_module_version": "1.2.0",
            "_model_name": "LayoutModel",
            "_view_count": null,
            "_view_module": "@jupyter-widgets/base",
            "_view_module_version": "1.2.0",
            "_view_name": "LayoutView",
            "align_content": null,
            "align_items": null,
            "align_self": null,
            "border": null,
            "bottom": null,
            "display": null,
            "flex": null,
            "flex_flow": null,
            "grid_area": null,
            "grid_auto_columns": null,
            "grid_auto_flow": null,
            "grid_auto_rows": null,
            "grid_column": null,
            "grid_gap": null,
            "grid_row": null,
            "grid_template_areas": null,
            "grid_template_columns": null,
            "grid_template_rows": null,
            "height": null,
            "justify_content": null,
            "justify_items": null,
            "left": null,
            "margin": null,
            "max_height": null,
            "max_width": null,
            "min_height": null,
            "min_width": null,
            "object_fit": null,
            "object_position": null,
            "order": null,
            "overflow": null,
            "overflow_x": null,
            "overflow_y": null,
            "padding": null,
            "right": null,
            "top": null,
            "visibility": null,
            "width": null
          }
        },
        "d8ed011f1a36427ea0dc43b9e6c89bfb": {
          "model_module": "@jupyter-widgets/controls",
          "model_name": "ProgressStyleModel",
          "model_module_version": "1.5.0",
          "state": {
            "_model_module": "@jupyter-widgets/controls",
            "_model_module_version": "1.5.0",
            "_model_name": "ProgressStyleModel",
            "_view_count": null,
            "_view_module": "@jupyter-widgets/base",
            "_view_module_version": "1.2.0",
            "_view_name": "StyleView",
            "bar_color": null,
            "description_width": ""
          }
        },
        "931bb84569e64ea1b748453358a231c1": {
          "model_module": "@jupyter-widgets/base",
          "model_name": "LayoutModel",
          "model_module_version": "1.2.0",
          "state": {
            "_model_module": "@jupyter-widgets/base",
            "_model_module_version": "1.2.0",
            "_model_name": "LayoutModel",
            "_view_count": null,
            "_view_module": "@jupyter-widgets/base",
            "_view_module_version": "1.2.0",
            "_view_name": "LayoutView",
            "align_content": null,
            "align_items": null,
            "align_self": null,
            "border": null,
            "bottom": null,
            "display": null,
            "flex": null,
            "flex_flow": null,
            "grid_area": null,
            "grid_auto_columns": null,
            "grid_auto_flow": null,
            "grid_auto_rows": null,
            "grid_column": null,
            "grid_gap": null,
            "grid_row": null,
            "grid_template_areas": null,
            "grid_template_columns": null,
            "grid_template_rows": null,
            "height": null,
            "justify_content": null,
            "justify_items": null,
            "left": null,
            "margin": null,
            "max_height": null,
            "max_width": null,
            "min_height": null,
            "min_width": null,
            "object_fit": null,
            "object_position": null,
            "order": null,
            "overflow": null,
            "overflow_x": null,
            "overflow_y": null,
            "padding": null,
            "right": null,
            "top": null,
            "visibility": null,
            "width": null
          }
        },
        "e54b49a4001140aba40e3c49dd96ef7b": {
          "model_module": "@jupyter-widgets/controls",
          "model_name": "DescriptionStyleModel",
          "model_module_version": "1.5.0",
          "state": {
            "_model_module": "@jupyter-widgets/controls",
            "_model_module_version": "1.5.0",
            "_model_name": "DescriptionStyleModel",
            "_view_count": null,
            "_view_module": "@jupyter-widgets/base",
            "_view_module_version": "1.2.0",
            "_view_name": "StyleView",
            "description_width": ""
          }
        },
        "f98ed82f26de4b1d8fd4baed0b35bac3": {
          "model_module": "@jupyter-widgets/controls",
          "model_name": "HBoxModel",
          "model_module_version": "1.5.0",
          "state": {
            "_dom_classes": [],
            "_model_module": "@jupyter-widgets/controls",
            "_model_module_version": "1.5.0",
            "_model_name": "HBoxModel",
            "_view_count": null,
            "_view_module": "@jupyter-widgets/controls",
            "_view_module_version": "1.5.0",
            "_view_name": "HBoxView",
            "box_style": "",
            "children": [
              "IPY_MODEL_6bd03484c4b64d64a2ce7deac3de236e",
              "IPY_MODEL_0f2d53b46b714146afc14efaeef5c69f",
              "IPY_MODEL_850d216332f24cb3a64e769cd67334b4"
            ],
            "layout": "IPY_MODEL_8d75f783db944d5bb7b67c2484e26db7"
          }
        },
        "6bd03484c4b64d64a2ce7deac3de236e": {
          "model_module": "@jupyter-widgets/controls",
          "model_name": "HTMLModel",
          "model_module_version": "1.5.0",
          "state": {
            "_dom_classes": [],
            "_model_module": "@jupyter-widgets/controls",
            "_model_module_version": "1.5.0",
            "_model_name": "HTMLModel",
            "_view_count": null,
            "_view_module": "@jupyter-widgets/controls",
            "_view_module_version": "1.5.0",
            "_view_name": "HTMLView",
            "description": "",
            "description_tooltip": null,
            "layout": "IPY_MODEL_4a5d1bcc0f1d45ed99760b61fec31fb3",
            "placeholder": "​",
            "style": "IPY_MODEL_5e9378af301c4c19a5642e71d4a612ee",
            "value": "Downloading builder script: "
          }
        },
        "0f2d53b46b714146afc14efaeef5c69f": {
          "model_module": "@jupyter-widgets/controls",
          "model_name": "FloatProgressModel",
          "model_module_version": "1.5.0",
          "state": {
            "_dom_classes": [],
            "_model_module": "@jupyter-widgets/controls",
            "_model_module_version": "1.5.0",
            "_model_name": "FloatProgressModel",
            "_view_count": null,
            "_view_module": "@jupyter-widgets/controls",
            "_view_module_version": "1.5.0",
            "_view_name": "ProgressView",
            "bar_style": "success",
            "description": "",
            "description_tooltip": null,
            "layout": "IPY_MODEL_6c882a0685994f85a4114507191ca8d4",
            "max": 1844,
            "min": 0,
            "orientation": "horizontal",
            "style": "IPY_MODEL_117fb95baad4460382988691d3696cab",
            "value": 1844
          }
        },
        "850d216332f24cb3a64e769cd67334b4": {
          "model_module": "@jupyter-widgets/controls",
          "model_name": "HTMLModel",
          "model_module_version": "1.5.0",
          "state": {
            "_dom_classes": [],
            "_model_module": "@jupyter-widgets/controls",
            "_model_module_version": "1.5.0",
            "_model_name": "HTMLModel",
            "_view_count": null,
            "_view_module": "@jupyter-widgets/controls",
            "_view_module_version": "1.5.0",
            "_view_name": "HTMLView",
            "description": "",
            "description_tooltip": null,
            "layout": "IPY_MODEL_d9d8b0a764c644a6a3d3502c4f2a3b1c",
            "placeholder": "​",
            "style": "IPY_MODEL_34b76c57e180401cab31a0e4ca245556",
            "value": " 5.76k/? [00:00&lt;00:00, 316kB/s]"
          }
        },
        "8d75f783db944d5bb7b67c2484e26db7": {
          "model_module": "@jupyter-widgets/base",
          "model_name": "LayoutModel",
          "model_module_version": "1.2.0",
          "state": {
            "_model_module": "@jupyter-widgets/base",
            "_model_module_version": "1.2.0",
            "_model_name": "LayoutModel",
            "_view_count": null,
            "_view_module": "@jupyter-widgets/base",
            "_view_module_version": "1.2.0",
            "_view_name": "LayoutView",
            "align_content": null,
            "align_items": null,
            "align_self": null,
            "border": null,
            "bottom": null,
            "display": null,
            "flex": null,
            "flex_flow": null,
            "grid_area": null,
            "grid_auto_columns": null,
            "grid_auto_flow": null,
            "grid_auto_rows": null,
            "grid_column": null,
            "grid_gap": null,
            "grid_row": null,
            "grid_template_areas": null,
            "grid_template_columns": null,
            "grid_template_rows": null,
            "height": null,
            "justify_content": null,
            "justify_items": null,
            "left": null,
            "margin": null,
            "max_height": null,
            "max_width": null,
            "min_height": null,
            "min_width": null,
            "object_fit": null,
            "object_position": null,
            "order": null,
            "overflow": null,
            "overflow_x": null,
            "overflow_y": null,
            "padding": null,
            "right": null,
            "top": null,
            "visibility": null,
            "width": null
          }
        },
        "4a5d1bcc0f1d45ed99760b61fec31fb3": {
          "model_module": "@jupyter-widgets/base",
          "model_name": "LayoutModel",
          "model_module_version": "1.2.0",
          "state": {
            "_model_module": "@jupyter-widgets/base",
            "_model_module_version": "1.2.0",
            "_model_name": "LayoutModel",
            "_view_count": null,
            "_view_module": "@jupyter-widgets/base",
            "_view_module_version": "1.2.0",
            "_view_name": "LayoutView",
            "align_content": null,
            "align_items": null,
            "align_self": null,
            "border": null,
            "bottom": null,
            "display": null,
            "flex": null,
            "flex_flow": null,
            "grid_area": null,
            "grid_auto_columns": null,
            "grid_auto_flow": null,
            "grid_auto_rows": null,
            "grid_column": null,
            "grid_gap": null,
            "grid_row": null,
            "grid_template_areas": null,
            "grid_template_columns": null,
            "grid_template_rows": null,
            "height": null,
            "justify_content": null,
            "justify_items": null,
            "left": null,
            "margin": null,
            "max_height": null,
            "max_width": null,
            "min_height": null,
            "min_width": null,
            "object_fit": null,
            "object_position": null,
            "order": null,
            "overflow": null,
            "overflow_x": null,
            "overflow_y": null,
            "padding": null,
            "right": null,
            "top": null,
            "visibility": null,
            "width": null
          }
        },
        "5e9378af301c4c19a5642e71d4a612ee": {
          "model_module": "@jupyter-widgets/controls",
          "model_name": "DescriptionStyleModel",
          "model_module_version": "1.5.0",
          "state": {
            "_model_module": "@jupyter-widgets/controls",
            "_model_module_version": "1.5.0",
            "_model_name": "DescriptionStyleModel",
            "_view_count": null,
            "_view_module": "@jupyter-widgets/base",
            "_view_module_version": "1.2.0",
            "_view_name": "StyleView",
            "description_width": ""
          }
        },
        "6c882a0685994f85a4114507191ca8d4": {
          "model_module": "@jupyter-widgets/base",
          "model_name": "LayoutModel",
          "model_module_version": "1.2.0",
          "state": {
            "_model_module": "@jupyter-widgets/base",
            "_model_module_version": "1.2.0",
            "_model_name": "LayoutModel",
            "_view_count": null,
            "_view_module": "@jupyter-widgets/base",
            "_view_module_version": "1.2.0",
            "_view_name": "LayoutView",
            "align_content": null,
            "align_items": null,
            "align_self": null,
            "border": null,
            "bottom": null,
            "display": null,
            "flex": null,
            "flex_flow": null,
            "grid_area": null,
            "grid_auto_columns": null,
            "grid_auto_flow": null,
            "grid_auto_rows": null,
            "grid_column": null,
            "grid_gap": null,
            "grid_row": null,
            "grid_template_areas": null,
            "grid_template_columns": null,
            "grid_template_rows": null,
            "height": null,
            "justify_content": null,
            "justify_items": null,
            "left": null,
            "margin": null,
            "max_height": null,
            "max_width": null,
            "min_height": null,
            "min_width": null,
            "object_fit": null,
            "object_position": null,
            "order": null,
            "overflow": null,
            "overflow_x": null,
            "overflow_y": null,
            "padding": null,
            "right": null,
            "top": null,
            "visibility": null,
            "width": null
          }
        },
        "117fb95baad4460382988691d3696cab": {
          "model_module": "@jupyter-widgets/controls",
          "model_name": "ProgressStyleModel",
          "model_module_version": "1.5.0",
          "state": {
            "_model_module": "@jupyter-widgets/controls",
            "_model_module_version": "1.5.0",
            "_model_name": "ProgressStyleModel",
            "_view_count": null,
            "_view_module": "@jupyter-widgets/base",
            "_view_module_version": "1.2.0",
            "_view_name": "StyleView",
            "bar_color": null,
            "description_width": ""
          }
        },
        "d9d8b0a764c644a6a3d3502c4f2a3b1c": {
          "model_module": "@jupyter-widgets/base",
          "model_name": "LayoutModel",
          "model_module_version": "1.2.0",
          "state": {
            "_model_module": "@jupyter-widgets/base",
            "_model_module_version": "1.2.0",
            "_model_name": "LayoutModel",
            "_view_count": null,
            "_view_module": "@jupyter-widgets/base",
            "_view_module_version": "1.2.0",
            "_view_name": "LayoutView",
            "align_content": null,
            "align_items": null,
            "align_self": null,
            "border": null,
            "bottom": null,
            "display": null,
            "flex": null,
            "flex_flow": null,
            "grid_area": null,
            "grid_auto_columns": null,
            "grid_auto_flow": null,
            "grid_auto_rows": null,
            "grid_column": null,
            "grid_gap": null,
            "grid_row": null,
            "grid_template_areas": null,
            "grid_template_columns": null,
            "grid_template_rows": null,
            "height": null,
            "justify_content": null,
            "justify_items": null,
            "left": null,
            "margin": null,
            "max_height": null,
            "max_width": null,
            "min_height": null,
            "min_width": null,
            "object_fit": null,
            "object_position": null,
            "order": null,
            "overflow": null,
            "overflow_x": null,
            "overflow_y": null,
            "padding": null,
            "right": null,
            "top": null,
            "visibility": null,
            "width": null
          }
        },
        "34b76c57e180401cab31a0e4ca245556": {
          "model_module": "@jupyter-widgets/controls",
          "model_name": "DescriptionStyleModel",
          "model_module_version": "1.5.0",
          "state": {
            "_model_module": "@jupyter-widgets/controls",
            "_model_module_version": "1.5.0",
            "_model_name": "DescriptionStyleModel",
            "_view_count": null,
            "_view_module": "@jupyter-widgets/base",
            "_view_module_version": "1.2.0",
            "_view_name": "StyleView",
            "description_width": ""
          }
        }
      }
    }
  },
  "cells": [
    {
      "cell_type": "markdown",
      "source": [
        "#Analiza sentymentu (śmieszny / zwykły tekst)"
      ],
      "metadata": {
        "id": "x5n4wWCTqlBP"
      }
    },
    {
      "cell_type": "code",
      "source": [
        "!nvcc --version"
      ],
      "metadata": {
        "id": "TR-qotpMN1pg",
        "colab": {
          "base_uri": "https://localhost:8080/"
        },
        "outputId": "15000943-8765-4969-fa3b-1ba8c6ffb373"
      },
      "execution_count": null,
      "outputs": [
        {
          "output_type": "stream",
          "name": "stdout",
          "text": [
            "nvcc: NVIDIA (R) Cuda compiler driver\n",
            "Copyright (c) 2005-2023 NVIDIA Corporation\n",
            "Built on Tue_Aug_15_22:02:13_PDT_2023\n",
            "Cuda compilation tools, release 12.2, V12.2.140\n",
            "Build cuda_12.2.r12.2/compiler.33191640_0\n"
          ]
        }
      ]
    },
    {
      "cell_type": "code",
      "source": [
        "import torch\n",
        "\n",
        "SEED = 42\n",
        "torch.manual_seed(SEED)\n",
        "\n",
        "if torch.cuda.is_available():\n",
        "    torch.cuda.manual_seed(SEED)\n",
        "    torch.cuda.manual_seed_all(SEED)\n",
        "    torch.backends.cudnn.deterministic = True\n",
        "    torch.backends.cudnn.benchmark = False\n"
      ],
      "metadata": {
        "id": "co-9buUulPEP"
      },
      "execution_count": 1,
      "outputs": []
    },
    {
      "cell_type": "code",
      "source": [
        "from torchtext.data.utils import get_tokenizer\n",
        "from torch.utils.data import random_split\n",
        "from torchtext.vocab import build_vocab_from_iterator\n",
        "from torch.nn.utils.rnn import pad_sequence\n",
        "from torch.utils.data import DataLoader\n",
        "import torch.nn as nn\n",
        "import torch.optim as optim\n",
        "import time"
      ],
      "metadata": {
        "id": "0yaVJ3d2gL2P"
      },
      "execution_count": 2,
      "outputs": []
    },
    {
      "cell_type": "code",
      "source": [
        "import pandas as pd\n",
        "from google.colab import drive\n",
        "drive.mount('/content/drive')\n",
        "path = \"/content/drive/MyDrive/Semestr III/ZUM/humor_detection_dataset/dataset.csv\"\n",
        "df = pd.read_csv(path)\n",
        "df.info()"
      ],
      "metadata": {
        "colab": {
          "base_uri": "https://localhost:8080/"
        },
        "id": "_xk65BHfNS9U",
        "outputId": "a5747ace-d16c-4e25-9d0d-fcf46add1698"
      },
      "execution_count": 3,
      "outputs": [
        {
          "output_type": "stream",
          "name": "stdout",
          "text": [
            "Mounted at /content/drive\n",
            "<class 'pandas.core.frame.DataFrame'>\n",
            "RangeIndex: 200000 entries, 0 to 199999\n",
            "Data columns (total 2 columns):\n",
            " #   Column  Non-Null Count   Dtype \n",
            "---  ------  --------------   ----- \n",
            " 0   text    200000 non-null  object\n",
            " 1   humor   200000 non-null  bool  \n",
            "dtypes: bool(1), object(1)\n",
            "memory usage: 1.7+ MB\n"
          ]
        }
      ]
    },
    {
      "cell_type": "code",
      "source": [
        "def epoch_time(start_time, end_time):\n",
        "    elapsed_time = end_time - start_time\n",
        "    elapsed_mins = int(elapsed_time / 60)\n",
        "    elapsed_secs = int(elapsed_time - (elapsed_mins * 60))\n",
        "    return elapsed_mins, elapsed_secs"
      ],
      "metadata": {
        "id": "ZIxqy-UEbBP1"
      },
      "execution_count": 4,
      "outputs": []
    },
    {
      "cell_type": "markdown",
      "source": [
        "### Eksploracja danych"
      ],
      "metadata": {
        "id": "_lrhfGQsD6XB"
      }
    },
    {
      "cell_type": "code",
      "source": [
        "# Data exploration\n",
        "print(\"Dataset sample:\")\n",
        "print(df.sample(5))\n",
        "print()\n",
        "print(\"Data shape:\")\n",
        "print(df.shape)\n",
        "print()\n",
        "print(\"Columns:\")\n",
        "print(df.columns)\n",
        "print()\n",
        "print(\"Null values count:\\n\",df.isnull().sum())\n",
        "print()\n",
        "print(\"Dataset description:\")\n",
        "print(df.describe())"
      ],
      "metadata": {
        "colab": {
          "base_uri": "https://localhost:8080/"
        },
        "id": "fS7piUAVOgqb",
        "outputId": "8f8d1807-b7c9-4aeb-8634-d1c9b0088f34"
      },
      "execution_count": null,
      "outputs": [
        {
          "output_type": "stream",
          "name": "stdout",
          "text": [
            "Dataset sample:\n",
            "                                                     text  humor\n",
            "150783  Brexit crisis tops off rough stretch in obama'...  False\n",
            "191020     What do you call crystal clear urine? 1080-pee   True\n",
            "116364  Rachel maddow wonders: would we really be bett...  False\n",
            "12736   After highs and lows of 2016, make 2017 a bett...  False\n",
            "135105  Police search chris brown's home after woman c...  False\n",
            "\n",
            "Data shape:\n",
            "(200000, 2)\n",
            "\n",
            "Columns:\n",
            "Index(['text', 'humor'], dtype='object')\n",
            "\n",
            "Null values count:\n",
            " text     0\n",
            "humor    0\n",
            "dtype: int64\n",
            "\n",
            "Dataset description:\n",
            "                                                     text   humor\n",
            "count                                              200000  200000\n",
            "unique                                             200000       2\n",
            "top     Joe biden rules out 2020 bid: 'guys, i'm not r...   False\n",
            "freq                                                    1  100000\n"
          ]
        }
      ]
    },
    {
      "cell_type": "code",
      "source": [
        "#Class distribution\n",
        "import seaborn as sns\n",
        "import matplotlib.pyplot as plt\n",
        "sns.countplot(df,x='humor')\n",
        "plt.xlabel('Joke')\n",
        "plt.title('Number of jokes and regular tweets')\n",
        "plt.show()"
      ],
      "metadata": {
        "colab": {
          "base_uri": "https://localhost:8080/",
          "height": 472
        },
        "id": "-K-oNtaQz1Rs",
        "outputId": "4b4b7036-5c92-4e39-b4e8-ca9d3921c8b8"
      },
      "execution_count": null,
      "outputs": [
        {
          "output_type": "display_data",
          "data": {
            "text/plain": [
              "<Figure size 640x480 with 1 Axes>"
            ],
            "image/png": "[encoded data removed]"
          },
          "metadata": {}
        }
      ]
    },
    {
      "cell_type": "markdown",
      "source": [
        "### Przygotowanie danych"
      ],
      "metadata": {
        "id": "Z3zhzO0BEAp2"
      }
    },
    {
      "cell_type": "code",
      "source": [
        "\n",
        "# 2. Przygotowanie danych (jeśli wymagane)\n",
        "missing_indexes = df.index[~df.index.isin(range(len(df)))]\n",
        "\n",
        "# Brakujące indexy\n",
        "if len(missing_indexes) > 0:\n",
        "    print(f\"Missing index labels: {missing_indexes}\")\n",
        "else:\n",
        "    print(\"No missing index labels\")"
      ],
      "metadata": {
        "colab": {
          "base_uri": "https://localhost:8080/"
        },
        "id": "5uCBQyl0z4yT",
        "outputId": "3337fec6-e4a1-4bdd-f8b0-bbb5a7fbdaf9"
      },
      "execution_count": null,
      "outputs": [
        {
          "output_type": "stream",
          "name": "stdout",
          "text": [
            "No missing index labels\n"
          ]
        }
      ]
    },
    {
      "cell_type": "code",
      "source": [
        "records = df.to_records(index=False)\n",
        "data_list = list(records)\n",
        "data_list[-1]"
      ],
      "metadata": {
        "colab": {
          "base_uri": "https://localhost:8080/"
        },
        "id": "cTigWZOBMzjh",
        "outputId": "86f41a70-3b91-4a4a-8756-9f850bd010c3"
      },
      "execution_count": 5,
      "outputs": [
        {
          "output_type": "execute_result",
          "data": {
            "text/plain": [
              "(\"An irish man walks on the street and ignores a bar... muahahaha, like that's possible!\", True)"
            ]
          },
          "metadata": {},
          "execution_count": 5
        }
      ]
    },
    {
      "cell_type": "code",
      "source": [
        "tokenizer = get_tokenizer('spacy', 'en_core_web_sm')\n",
        "\n",
        "def yield_tokens(data_iter):\n",
        "    for (text, label) in data_iter:\n",
        "        yield tokenizer(text)"
      ],
      "metadata": {
        "id": "M3oYzS--eXpn"
      },
      "execution_count": 6,
      "outputs": []
    },
    {
      "cell_type": "code",
      "source": [
        "# dzielimy dane na train i test\n",
        "split_ratio = 0.2\n",
        "n_train = len(data_list)\n",
        "n_test = int(n_train * split_ratio)\n",
        "n_train = n_train - n_test\n",
        "train_data, test_data = random_split(data_list, [n_train, n_test])"
      ],
      "metadata": {
        "id": "wW-tyM7jD7_E"
      },
      "execution_count": 7,
      "outputs": []
    },
    {
      "cell_type": "code",
      "source": [
        "# sami wydzielimy część na walidację odcinając 50% testu\n",
        "validation_ratio = 0.5\n",
        "n_test = len(test_data)\n",
        "n_val = int(n_test * validation_ratio)\n",
        "n_test = n_test - n_val\n",
        "val_data, test_data = random_split(test_data, [n_val, n_test])"
      ],
      "metadata": {
        "id": "nIMaiQTeD9aS"
      },
      "execution_count": 8,
      "outputs": []
    },
    {
      "cell_type": "code",
      "source": [
        "train_data[0]"
      ],
      "metadata": {
        "colab": {
          "base_uri": "https://localhost:8080/"
        },
        "id": "WXYnsE7Ij1R3",
        "outputId": "8222ccd6-d51a-40b7-ffdc-ac762345fb0e"
      },
      "execution_count": null,
      "outputs": [
        {
          "output_type": "execute_result",
          "data": {
            "text/plain": [
              "('What do you call a mexican ghost? a juanting.', True)"
            ]
          },
          "metadata": {},
          "execution_count": 13
        }
      ]
    },
    {
      "cell_type": "code",
      "source": [
        "MAX_TOKENS = 25000\n",
        "train_iter = iter(train_data)\n",
        "vocab = build_vocab_from_iterator(\n",
        "    yield_tokens(train_iter),\n",
        "    specials=['<unk>'],\n",
        "    max_tokens=MAX_TOKENS)\n",
        "vocab.set_default_index(vocab['<unk>'])"
      ],
      "metadata": {
        "id": "7mLc-8m0gZg7"
      },
      "execution_count": 9,
      "outputs": []
    },
    {
      "cell_type": "code",
      "source": [
        "text_pipeline = lambda x: vocab(tokenizer(x))\n",
        "label_pipeline = lambda x: 1 if x == True else 0\n",
        "\n",
        "def collate_batch(batch):\n",
        "    label_list, text_list, lengths = [], [], []\n",
        "    for text_label in batch:\n",
        "        label_list.append(label_pipeline(text_label[1]))\n",
        "        processed_text = torch.tensor(text_pipeline(text_label[0]), dtype=torch.int64)\n",
        "        text_list.append(processed_text)\n",
        "        lengths.append(processed_text.size(0))\n",
        "    label_list = torch.tensor(label_list, dtype=torch.float32)\n",
        "    lengths = torch.tensor(lengths, dtype=torch.int64)\n",
        "    text_list = pad_sequence(text_list, batch_first=True)\n",
        "    return label_list, text_list, lengths"
      ],
      "metadata": {
        "id": "L_QwBr-sjbRt"
      },
      "execution_count": 10,
      "outputs": []
    },
    {
      "cell_type": "code",
      "source": [
        "# w końcu ustalamy rozmiar batchy i tworzymy 3 dataloadery do wrzucania danych do modelu\n",
        "batch_size = 64\n",
        "val_dataloader = DataLoader(val_data, batch_size=batch_size, shuffle=False, collate_fn=collate_batch)\n",
        "test_dataloader = DataLoader(test_data, batch_size=batch_size, shuffle=False, collate_fn=collate_batch)\n",
        "train_dataloader = DataLoader(train_data, batch_size=batch_size, shuffle=True, collate_fn=collate_batch)"
      ],
      "metadata": {
        "id": "J0LJCcH3qur_"
      },
      "execution_count": 11,
      "outputs": []
    },
    {
      "cell_type": "code",
      "source": [
        "def count_parameters(model):\n",
        " return sum(p.numel() for p in model.parameters() if p.requires_grad)"
      ],
      "metadata": {
        "id": "GID0w3KpDp6H"
      },
      "execution_count": 12,
      "outputs": []
    },
    {
      "cell_type": "code",
      "source": [
        "# Funkcja accuracy\n",
        "def accuracy(preds, y):\n",
        "    rounded_preds = torch.round(torch.sigmoid(preds))\n",
        "    correct = (rounded_preds == y).float()\n",
        "    acc = correct.sum() / len(correct)\n",
        "    return acc"
      ],
      "metadata": {
        "id": "kJTMAr9p28xS"
      },
      "execution_count": 13,
      "outputs": []
    },
    {
      "cell_type": "code",
      "source": [
        "texts=[\"What kind of candy do astronauts like? Mars bars.\",\n",
        "       \"The weather is fine today. Clear sky and no clouds.\",\n",
        "       \"What falls, but never needs a bandage? The rain.\",\n",
        "       \"president biden will have a speech before congres on Friday\",\n",
        "       \"Anna study for her last exam in this semester. She wants to pass with best grade\",\n",
        "       \"that was so bad\"]"
      ],
      "metadata": {
        "id": "bJUIfPy4kQhM"
      },
      "execution_count": 14,
      "outputs": []
    },
    {
      "cell_type": "code",
      "source": [
        "def process_for_prediction(texts):\n",
        "  text_list, lengths = [], []\n",
        "  for text in texts:\n",
        "      processed_text = torch.tensor(text_pipeline(text), dtype=torch.int64)\n",
        "      text_list.append(processed_text)\n",
        "      lengths.append(processed_text.size(0))\n",
        "  lengths = torch.tensor(lengths, dtype=torch.int64)\n",
        "  text_list = pad_sequence(text_list, batch_first=True)\n",
        "  return text_list, lengths"
      ],
      "metadata": {
        "id": "Vah1vvnworsI"
      },
      "execution_count": 15,
      "outputs": []
    },
    {
      "cell_type": "markdown",
      "source": [
        "### LSTM"
      ],
      "metadata": {
        "id": "ni0BxD4-2oPm"
      }
    },
    {
      "cell_type": "code",
      "source": [
        "# 6. Zbuduj model LSTM w PyTorch\n",
        "class SentimentAnalysisLSTM(nn.Module):\n",
        "    def __init__(self, vocab_size, embedding_dim, hidden_dim, output_dim, n_layers, bidirectional, dropout, pad_idx):\n",
        "        super().__init__()\n",
        "        self.embedding = nn.Embedding(vocab_size, embedding_dim, padding_idx=pad_idx)\n",
        "        self.lstm = nn.LSTM(embedding_dim, hidden_dim, num_layers=n_layers, bidirectional=bidirectional, dropout=dropout)\n",
        "        self.fc = nn.Linear(hidden_dim * 2, output_dim)\n",
        "        self.dropout = nn.Dropout(dropout)\n",
        "\n",
        "    def forward(self, text, text_lengths):\n",
        "        embedded = self.dropout(self.embedding(text))\n",
        "        packed_embedded = nn.utils.rnn.pack_padded_sequence(embedded, text_lengths, batch_first=True, enforce_sorted=False) # text_lengths.to('cpu')\n",
        "        packed_output, (hidden, cell) = self.lstm(packed_embedded)\n",
        "        hidden = self.dropout(torch.cat((hidden[-2,:,:], hidden[-1,:,:]), dim=1))\n",
        "        return self.fc(hidden.squeeze(0))\n"
      ],
      "metadata": {
        "id": "VQwAT57U2ngc"
      },
      "execution_count": null,
      "outputs": []
    },
    {
      "cell_type": "code",
      "source": [
        "vocab['<pad>']"
      ],
      "metadata": {
        "colab": {
          "base_uri": "https://localhost:8080/"
        },
        "id": "_XX0M3SFS5IK",
        "outputId": "5ad7015c-d31a-49da-a649-8487ae8a46fe"
      },
      "execution_count": null,
      "outputs": [
        {
          "output_type": "execute_result",
          "data": {
            "text/plain": [
              "0"
            ]
          },
          "metadata": {},
          "execution_count": 20
        }
      ]
    },
    {
      "cell_type": "code",
      "source": [
        "# Hyperparametery\n",
        "INPUT_DIM = len(vocab)\n",
        "EMBEDDING_DIM = 100\n",
        "HIDDEN_DIM = 256\n",
        "OUTPUT_DIM = 1\n",
        "N_LAYERS = 2\n",
        "BIDIRECTIONAL = True\n",
        "DROPOUT = 0.5\n",
        "PAD_IDX = vocab['<pad>']\n",
        "\n",
        "# Inicjalizacja modelu\n",
        "modelLSTM = SentimentAnalysisLSTM(INPUT_DIM, EMBEDDING_DIM, HIDDEN_DIM, OUTPUT_DIM, N_LAYERS, BIDIRECTIONAL, DROPOUT, PAD_IDX)"
      ],
      "metadata": {
        "id": "0nOSpWZv2ttM"
      },
      "execution_count": null,
      "outputs": []
    },
    {
      "cell_type": "code",
      "source": [
        "print(f'Model ma {count_parameters(modelLSTM):,} parametrów')"
      ],
      "metadata": {
        "colab": {
          "base_uri": "https://localhost:8080/"
        },
        "id": "di8Kf5sO2wnS",
        "outputId": "d41c1dad-0585-4a71-e31d-2bd9e8f44a59"
      },
      "execution_count": null,
      "outputs": [
        {
          "output_type": "stream",
          "name": "stdout",
          "text": [
            "Model ma 4,810,657 parametrów\n"
          ]
        }
      ]
    },
    {
      "cell_type": "code",
      "source": [
        "# 7. Zdefiniuj funkcję straty i optymalizator\n",
        "# criterion = nn.CrossEntropyLoss()\n",
        "# optimizer = optim.Adam(modelLSTM.parameters())\n",
        "optimizer = optim.SGD(modelLSTM.parameters(), lr=1e-3)\n",
        "criterion = nn.BCEWithLogitsLoss()\n",
        "# device = torch.device(\"cuda\" if torch.cuda.is_available() else \"cpu\")\n",
        "# modelLSTM = modelLSTM.to(device)\n",
        "# criterion = criterion.to(device)"
      ],
      "metadata": {
        "id": "sDHfvByW27Du"
      },
      "execution_count": null,
      "outputs": []
    },
    {
      "cell_type": "code",
      "source": [
        "# Training loop\n",
        "def train(model, iterator, optimizer, criterion):\n",
        "    model.train()\n",
        "    epoch_loss = 0\n",
        "    epoch_acc = 0\n",
        "\n",
        "    for batch in iterator:\n",
        "        humor, text, lengths = batch\n",
        "        predictions = model(text, lengths).squeeze(1)\n",
        "        loss = criterion(predictions, humor)\n",
        "        acc = accuracy(predictions, humor)\n",
        "\n",
        "        optimizer.zero_grad()\n",
        "        loss.backward()\n",
        "        optimizer.step()\n",
        "\n",
        "        epoch_loss += loss.item()\n",
        "        epoch_acc += acc.item()\n",
        "\n",
        "    return epoch_loss / len(iterator), epoch_acc / len(iterator)\n",
        "\n",
        "  # Evaluation loop\n",
        "def evaluate(model, iterator, criterion):\n",
        "    model.eval()\n",
        "    epoch_loss = 0\n",
        "    epoch_acc = 0\n",
        "\n",
        "    with torch.no_grad():\n",
        "        for batch in iterator:\n",
        "            humor, text, lengths = batch\n",
        "            predictions = model(text, lengths).squeeze(1)\n",
        "            loss = criterion(predictions, humor)\n",
        "            acc = accuracy(predictions, humor)\n",
        "\n",
        "            epoch_loss += loss.item()\n",
        "            epoch_acc += acc.item()\n",
        "\n",
        "    return epoch_loss / len(iterator), epoch_acc / len(iterator)\n"
      ],
      "metadata": {
        "id": "zWImsoIn2_UK"
      },
      "execution_count": null,
      "outputs": []
    },
    {
      "cell_type": "code",
      "source": [
        "# Trenowanie modelu\n",
        "N_EPOCHS = 5\n",
        "best_valid_loss = float('inf')\n",
        "\n",
        "for epoch in range(N_EPOCHS):\n",
        "    start_time = time.time()\n",
        "\n",
        "    train_loss, train_acc = train(modelLSTM, train_dataloader, optimizer, criterion)\n",
        "    valid_loss, valid_acc = evaluate(modelLSTM, val_dataloader, criterion)\n",
        "\n",
        "    end_time = time.time()\n",
        "    epoch_mins, epoch_secs = epoch_time(start_time, end_time)\n",
        "\n",
        "    if valid_loss < best_valid_loss:\n",
        "        best_valid_loss = valid_loss\n",
        "        torch.save(modelLSTM.state_dict(), 'lstm-model.pt')\n",
        "\n",
        "    print(f'Epoch: {epoch+1:02} | Epoch Time: {epoch_mins}m {epoch_secs}s')\n",
        "    print(f'\\tTrain Loss: {train_loss:.3f} | Train Acc: {train_acc * 100:.2f}%')\n",
        "    print(f'\\tValid Loss: {valid_loss:.3f} | Valid Acc: {valid_acc * 100:.2f}%')\n"
      ],
      "metadata": {
        "id": "Z-D4bVXT3C7Z"
      },
      "execution_count": null,
      "outputs": []
    },
    {
      "cell_type": "markdown",
      "source": [
        "### CNN"
      ],
      "metadata": {
        "id": "a12z4ZBwDzTQ"
      }
    },
    {
      "cell_type": "code",
      "source": [
        "class SentimentAnalysisCNN(nn.Module):\n",
        "    def __init__(self, vocab_size, embedding_dim, n_filters, filter_sizes, output_dim, dropout, pad_idx):\n",
        "        super().__init__()\n",
        "        self.embedding = nn.Embedding(vocab_size, embedding_dim, padding_idx=pad_idx)\n",
        "        self.convs = nn.ModuleList([nn.Conv2d(in_channels=1, out_channels=n_filters, kernel_size=(fs, embedding_dim)) for fs in filter_sizes])\n",
        "        self.fc = nn.Linear(len(filter_sizes) * n_filters, output_dim)\n",
        "        self.dropout = nn.Dropout(dropout)\n",
        "\n",
        "    def forward(self, text):\n",
        "        embedded = self.embedding(text)\n",
        "        embedded = embedded.unsqueeze(1)\n",
        "        conved = [nn.functional.relu(conv(embedded)).squeeze(3) for conv in self.convs]\n",
        "        pooled = [nn.functional.max_pool1d(conv, conv.shape[2]).squeeze(2) for conv in conved]\n",
        "        cat = self.dropout(torch.cat(pooled, dim=1))\n",
        "        return self.fc(cat)"
      ],
      "metadata": {
        "id": "Dq5felVZ8Xy8"
      },
      "execution_count": 16,
      "outputs": []
    },
    {
      "cell_type": "code",
      "source": [
        "INPUT_DIM = len(vocab)\n",
        "EMBEDDING_DIM = 100\n",
        "N_FILTERS = 100\n",
        "FILTER_SIZES = [3,4,5]\n",
        "OUTPUT_DIM = 1\n",
        "DROPOUT = 0.5\n",
        "PAD_IDX = vocab['<pad>']"
      ],
      "metadata": {
        "id": "76go6U_2arxR"
      },
      "execution_count": 17,
      "outputs": []
    },
    {
      "cell_type": "code",
      "source": [
        "modelCNN= SentimentAnalysisCNN(INPUT_DIM, EMBEDDING_DIM, N_FILTERS, FILTER_SIZES, OUTPUT_DIM, DROPOUT, PAD_IDX)\n",
        "\n",
        "print(f'Model ma {count_parameters(modelCNN):,} parametrów')"
      ],
      "metadata": {
        "id": "eEfVKVz0auwh",
        "colab": {
          "base_uri": "https://localhost:8080/"
        },
        "outputId": "e12f0504-c7ff-4807-ad8e-77a5165a7368"
      },
      "execution_count": 18,
      "outputs": [
        {
          "output_type": "stream",
          "name": "stdout",
          "text": [
            "Model ma 2,620,601 parametrów\n"
          ]
        }
      ]
    },
    {
      "cell_type": "code",
      "source": [
        "# criterion = nn.CrossEntropyLoss()\n",
        "# optimizer = optim.Adam(modelLSTM.parameters())\n",
        "optimizer = optim.SGD(modelCNN.parameters(), lr=1e-3)\n",
        "criterion = nn.BCEWithLogitsLoss()\n",
        "# device = torch.device(\"cuda\" if torch.cuda.is_available() else \"cpu\")\n",
        "# modelCNN = modelCNN.to(device)\n",
        "# criterion = criterion.to(device)"
      ],
      "metadata": {
        "id": "iA5bmnSwayH_"
      },
      "execution_count": null,
      "outputs": []
    },
    {
      "cell_type": "code",
      "source": [
        "def train(model, iterator, optimizer, criterion):\n",
        "    epoch_loss = 0\n",
        "    epoch_acc = 0\n",
        "    model.train()\n",
        "    for labels, text, text_lengths in iterator:\n",
        "        optimizer.zero_grad()\n",
        "        predictions = model(text).squeeze(1)\n",
        "        loss = criterion(predictions, labels)\n",
        "        acc = accuracy(predictions, labels)\n",
        "        loss.backward()\n",
        "        optimizer.step()\n",
        "        epoch_loss += loss.item()\n",
        "        epoch_acc += acc.item()\n",
        "    return epoch_loss / len(iterator), epoch_acc / len(iterator)\n",
        "\n",
        "def evaluate(model, iterator, criterion):\n",
        "    epoch_loss = 0\n",
        "    epoch_acc = 0\n",
        "    model.eval()\n",
        "    with torch.no_grad():\n",
        "        for labels, text, text_lengths in iterator:\n",
        "            predictions = model(text).squeeze(1)\n",
        "            loss = criterion(predictions, labels)\n",
        "            acc = accuracy(predictions, labels)\n",
        "            epoch_loss += loss.item()\n",
        "            epoch_acc += acc.item()\n",
        "    return epoch_loss / len(iterator), epoch_acc / len(iterator)"
      ],
      "metadata": {
        "id": "gHlGlrYZa17R"
      },
      "execution_count": null,
      "outputs": []
    },
    {
      "cell_type": "code",
      "source": [
        "N_EPOCHS = 5\n",
        "best_valid_loss = float('inf')\n",
        "\n",
        "for epoch in range(N_EPOCHS):\n",
        "\n",
        "    start_time = time.time()\n",
        "\n",
        "    train_loss, train_acc = train(modelCNN, train_dataloader, optimizer, criterion)\n",
        "    valid_loss, valid_acc = evaluate(modelCNN, val_dataloader, criterion)\n",
        "\n",
        "    end_time = time.time()\n",
        "    epoch_mins, epoch_secs = epoch_time(start_time, end_time)\n",
        "\n",
        "    if valid_loss < best_valid_loss:\n",
        "        best_valid_loss = valid_loss\n",
        "        torch.save(modelCNN.state_dict(), 'cnn-model.pt')\n",
        "\n",
        "    print(f'Epoch: {epoch+1:02} | Epoch Time: {epoch_mins}m {epoch_secs}s')\n",
        "    print(f'\\tTrain Loss: {train_loss:.3f} | Train Acc: {train_acc*100:.2f}%')\n",
        "    print(f'\\t Val. Loss: {valid_loss:.3f} |  Val. Acc: {valid_acc*100:.2f}%')"
      ],
      "metadata": {
        "id": "UNki2_CrbXih",
        "colab": {
          "base_uri": "https://localhost:8080/"
        },
        "outputId": "33da61b9-a17e-46e8-b92c-4ab6c2ab6f75"
      },
      "execution_count": null,
      "outputs": [
        {
          "output_type": "stream",
          "name": "stdout",
          "text": [
            "Epoch: 01 | Epoch Time: 3m 1s\n",
            "\tTrain Loss: 0.614 | Train Acc: 65.63%\n",
            "\t Val. Loss: 0.469 |  Val. Acc: 86.09%\n",
            "Epoch: 02 | Epoch Time: 3m 14s\n",
            "\tTrain Loss: 0.443 | Train Acc: 80.53%\n",
            "\t Val. Loss: 0.318 |  Val. Acc: 89.85%\n",
            "Epoch: 03 | Epoch Time: 3m 28s\n",
            "\tTrain Loss: 0.363 | Train Acc: 85.20%\n",
            "\t Val. Loss: 0.274 |  Val. Acc: 90.28%\n",
            "Epoch: 04 | Epoch Time: 3m 8s\n",
            "\tTrain Loss: 0.329 | Train Acc: 87.02%\n",
            "\t Val. Loss: 0.255 |  Val. Acc: 90.70%\n",
            "Epoch: 05 | Epoch Time: 2m 50s\n",
            "\tTrain Loss: 0.308 | Train Acc: 88.08%\n",
            "\t Val. Loss: 0.244 |  Val. Acc: 91.06%\n"
          ]
        }
      ]
    },
    {
      "cell_type": "code",
      "source": [
        "model_save_name = 'cnn-model.pt'\n",
        "model_path = f\"/content/drive/MyDrive/Semestr III/ZUM/humor_detection_dataset/{model_save_name}\"\n",
        "torch.save(modelCNN.state_dict(), model_path)"
      ],
      "metadata": {
        "id": "-QShPC5XCJGF"
      },
      "execution_count": 19,
      "outputs": []
    },
    {
      "cell_type": "code",
      "source": [
        "model_save_name = 'cnn-model.pt'\n",
        "model_path = f\"/content/drive/MyDrive/Semestr III/ZUM/humor_detection_dataset/{model_save_name}\"\n",
        "modelCNN.load_state_dict(torch.load(model_path))"
      ],
      "metadata": {
        "colab": {
          "base_uri": "https://localhost:8080/"
        },
        "id": "k_1KGwzUpbbQ",
        "outputId": "cf70869c-7abd-4055-d95a-299f334dc85a"
      },
      "execution_count": 20,
      "outputs": [
        {
          "output_type": "execute_result",
          "data": {
            "text/plain": [
              "<All keys matched successfully>"
            ]
          },
          "metadata": {},
          "execution_count": 20
        }
      ]
    },
    {
      "cell_type": "code",
      "source": [
        "predictions = modelCNN(process_for_prediction(texts)[0])\n",
        "predictions = torch.sigmoid(predictions)"
      ],
      "metadata": {
        "id": "wc_QJnZxGr3y"
      },
      "execution_count": 25,
      "outputs": []
    },
    {
      "cell_type": "code",
      "source": [
        "for text, prediction in zip(texts,predictions):\n",
        "  if prediction < 0.5:\n",
        "    print(text + \"    is no joke\")\n",
        "  else:\n",
        "    print(text+ \"   is a joke\")"
      ],
      "metadata": {
        "colab": {
          "base_uri": "https://localhost:8080/"
        },
        "id": "2RRdpraNrZ5W",
        "outputId": "16e83198-d320-44d2-9a39-2d02c31fd045"
      },
      "execution_count": 26,
      "outputs": [
        {
          "output_type": "stream",
          "name": "stdout",
          "text": [
            "What kind of candy do astronauts like? Mars bars.   is a joke\n",
            "The weather is fine today. Clear sky and no clouds.   is a joke\n",
            "What falls, but never needs a bandage? The rain.   is a joke\n",
            "president biden will have a speech before congres on Friday    is no joke\n",
            "Anna study for her last exam in this semester. She wants to pass with best grade   is a joke\n",
            "that was so bad    is no joke\n"
          ]
        }
      ]
    },
    {
      "cell_type": "markdown",
      "source": [
        "### RNN z word embedingiem"
      ],
      "metadata": {
        "id": "0EZpSs4ulrRk"
      }
    },
    {
      "cell_type": "code",
      "source": [
        "from torch.nn.utils.rnn import pack_padded_sequence, pad_packed_sequence\n",
        "\n",
        "class RNNwithPretrainedWordEmbeddings(nn.Module):\n",
        "    def __init__(self, input_dim, embedding_dim, hidden_dim, output_dim, pretrained_embeddings):\n",
        "        super().__init__()\n",
        "        self.embedding = nn.Embedding.from_pretrained(pretrained_embeddings) #nie będziemi sami trenowali wag tylko ładujemy te już wytrenowane\n",
        "        self.rnn = nn.RNN(embedding_dim, hidden_dim)\n",
        "        self.fc = nn.Linear(hidden_dim, output_dim)\n",
        "\n",
        "    def forward(self, text, text_lengths):\n",
        "        embedded = self.embedding(text)\n",
        "        # pakujemy sekwencje\n",
        "        packed_embedded = pack_padded_sequence(embedded, text_lengths.cpu(), batch_first=True, enforce_sorted=False)\n",
        "        packed_output, hidden = self.rnn(packed_embedded)\n",
        "        # rozpakowujemy wyjście\n",
        "        output, output_lengths = pad_packed_sequence(packed_output, batch_first=True)\n",
        "        return self.fc(hidden.squeeze(0))"
      ],
      "metadata": {
        "id": "RUxiaXTplvG2"
      },
      "execution_count": 27,
      "outputs": []
    },
    {
      "cell_type": "code",
      "source": [
        "from torchtext.vocab import GloVe\n",
        "\n",
        "glove = GloVe(name='6B', dim=100)  # Korzystamy z wektorów 100-wymiarowych z GloVe"
      ],
      "metadata": {
        "id": "hOBbmHK-HNV6",
        "colab": {
          "base_uri": "https://localhost:8080/"
        },
        "outputId": "80fb8182-3281-4560-f5b1-31a0f2f323c1"
      },
      "execution_count": 28,
      "outputs": [
        {
          "output_type": "stream",
          "name": "stderr",
          "text": [
            ".vector_cache/glove.6B.zip: 862MB [02:39, 5.40MB/s]                           \n",
            "100%|█████████▉| 399999/400000 [00:28<00:00, 14003.26it/s]\n"
          ]
        }
      ]
    },
    {
      "cell_type": "code",
      "source": [
        "INPUT_DIM = len(vocab)\n",
        "EMBEDDING_DIM = 100\n",
        "HIDDEN_DIM = 256\n",
        "OUTPUT_DIM = 1\n",
        "\n",
        "embedding_matrix = torch.zeros((INPUT_DIM, EMBEDDING_DIM))\n",
        "\n",
        "# dodajemy warunek jeśli vocab jest obiektem Vocab z torchtext\n",
        "for i, word in enumerate(vocab.get_itos()):  # get_itos() zwraca listę tokenów w słowniku vocab\n",
        "    if word in glove.stoi:\n",
        "        embedding_matrix[i] = glove.vectors[glove.stoi[word]]\n",
        "    # w przeciwnym razie zainicjalizujemy embedding jako wektor zer\n",
        "\n",
        "\n",
        "modelRNNwithPretrainedWordEmbeddings = RNNwithPretrainedWordEmbeddings(INPUT_DIM, EMBEDDING_DIM, HIDDEN_DIM, OUTPUT_DIM, embedding_matrix)"
      ],
      "metadata": {
        "id": "f4uGdH8tlyIS"
      },
      "execution_count": 29,
      "outputs": []
    },
    {
      "cell_type": "code",
      "source": [
        "print(f'Model ma {count_parameters(modelRNNwithPretrainedWordEmbeddings):,} parametrów')"
      ],
      "metadata": {
        "id": "p9JGLnyYl2Kj",
        "colab": {
          "base_uri": "https://localhost:8080/"
        },
        "outputId": "649d32e1-72c0-4273-fcd8-fb80b1ed5ed6"
      },
      "execution_count": 30,
      "outputs": [
        {
          "output_type": "stream",
          "name": "stdout",
          "text": [
            "Model ma 91,905 parametrów\n"
          ]
        }
      ]
    },
    {
      "cell_type": "code",
      "source": [
        "optimizer = optim.SGD(modelRNNwithPretrainedWordEmbeddings.parameters(), lr=1e-3)\n",
        "criterion = nn.BCEWithLogitsLoss()\n",
        "device = torch.device(\"cuda\" if torch.cuda.is_available() else \"cpu\")\n",
        "modelRNNwithPretrainedWordEmbeddings = modelRNNwithPretrainedWordEmbeddings.to(device)\n",
        "criterion = criterion.to(device)"
      ],
      "metadata": {
        "id": "akdhUoUMmBUt"
      },
      "execution_count": null,
      "outputs": []
    },
    {
      "cell_type": "code",
      "source": [
        "def train(model, iterator, optimizer, criterion):\n",
        "    epoch_loss = 0\n",
        "    epoch_acc = 0\n",
        "    model.train()\n",
        "\n",
        "    for batch in iterator:\n",
        "        labels, texts, lengths = batch\n",
        "        texts, labels = texts.to(device), labels.to(device)\n",
        "        optimizer.zero_grad()\n",
        "\n",
        "        predictions = model(texts, lengths).squeeze(1)\n",
        "        loss = criterion(predictions, labels)\n",
        "        acc = accuracy(predictions, labels)\n",
        "\n",
        "        loss.backward()\n",
        "        optimizer.step()\n",
        "\n",
        "        epoch_loss += loss.item()\n",
        "        epoch_acc += acc.item()\n",
        "\n",
        "    return epoch_loss / len(iterator), epoch_acc / len(iterator)\n",
        "\n",
        "def evaluate(model, iterator, criterion):\n",
        "    epoch_loss = 0\n",
        "    epoch_acc = 0\n",
        "    model.eval()\n",
        "\n",
        "    with torch.no_grad():\n",
        "        for batch in iterator:\n",
        "            labels, texts, lengths = batch\n",
        "            texts, labels = texts.to(device), labels.to(device)\n",
        "\n",
        "            predictions = model(texts, lengths).squeeze(1)\n",
        "            loss = criterion(predictions, labels)\n",
        "            acc = accuracy(predictions, labels)\n",
        "\n",
        "            epoch_loss += loss.item()\n",
        "            epoch_acc += acc.item()\n",
        "\n",
        "    return epoch_loss / len(iterator), epoch_acc / len(iterator)\n"
      ],
      "metadata": {
        "id": "_hPSeXzgmMEq"
      },
      "execution_count": null,
      "outputs": []
    },
    {
      "cell_type": "code",
      "source": [
        "N_EPOCHS = 5\n",
        "best_valid_loss = float('inf')\n",
        "model_save_name = 'rnn-with-embeddings-model.pt'\n",
        "model_path = f\"/content/drive/MyDrive/Semestr III/ZUM/humor_detection_dataset/{model_save_name}\"\n",
        "\n",
        "for epoch in range(N_EPOCHS):\n",
        "    start_time = time.time()\n",
        "\n",
        "    train_loss, train_acc = train(modelRNNwithPretrainedWordEmbeddings, train_dataloader, optimizer, criterion)\n",
        "    valid_loss, valid_acc = evaluate(modelRNNwithPretrainedWordEmbeddings, val_dataloader, criterion)\n",
        "\n",
        "    end_time = time.time()\n",
        "    epoch_mins, epoch_secs = epoch_time(start_time, end_time)\n",
        "\n",
        "    if valid_loss < best_valid_loss:\n",
        "        best_valid_loss = valid_loss\n",
        "        torch.save(modelRNNwithPretrainedWordEmbeddings.state_dict(), 'rnn-with-embeddings-model.pt')\n",
        "        torch.save(modelRNNwithPretrainedWordEmbeddings.state_dict(), model_path)\n",
        "\n",
        "    print(f'Epoch: {epoch+1:02} | Epoch Time: {epoch_mins}m {epoch_secs}s')\n",
        "    print(f'\\tTrain Loss: {train_loss:.3f} | Train Acc: {train_acc*100:.2f}%')\n",
        "    print(f'\\t Val. Loss: {valid_loss:.3f} |  Val. Acc: {valid_acc*100:.2f}%')\n"
      ],
      "metadata": {
        "colab": {
          "base_uri": "https://localhost:8080/"
        },
        "id": "DpLdojkEmVF_",
        "outputId": "1092155c-1b91-4637-98b5-8201ab9a26b5"
      },
      "execution_count": null,
      "outputs": [
        {
          "output_type": "stream",
          "name": "stdout",
          "text": [
            "Epoch: 01 | Epoch Time: 0m 33s\n",
            "\tTrain Loss: 0.575 | Train Acc: 76.65%\n",
            "\t Val. Loss: 0.458 |  Val. Acc: 83.11%\n",
            "Epoch: 02 | Epoch Time: 0m 37s\n",
            "\tTrain Loss: 0.300 | Train Acc: 88.36%\n",
            "\t Val. Loss: 0.222 |  Val. Acc: 91.46%\n",
            "Epoch: 03 | Epoch Time: 0m 25s\n",
            "\tTrain Loss: 0.205 | Train Acc: 91.91%\n",
            "\t Val. Loss: 0.196 |  Val. Acc: 92.51%\n",
            "Epoch: 04 | Epoch Time: 0m 24s\n",
            "\tTrain Loss: 0.189 | Train Acc: 92.58%\n",
            "\t Val. Loss: 0.184 |  Val. Acc: 93.00%\n",
            "Epoch: 05 | Epoch Time: 0m 29s\n",
            "\tTrain Loss: 0.181 | Train Acc: 92.95%\n",
            "\t Val. Loss: 0.179 |  Val. Acc: 93.15%\n"
          ]
        }
      ]
    },
    {
      "cell_type": "code",
      "source": [
        "model_save_name = 'rnn-with-embeddings-model.pt'\n",
        "model_path = f\"/content/drive/MyDrive/Semestr III/ZUM/humor_detection_dataset/{model_save_name}\"\n",
        "modelRNNwithPretrainedWordEmbeddings.load_state_dict(torch.load(model_path, map_location=torch.device('cpu')))"
      ],
      "metadata": {
        "colab": {
          "base_uri": "https://localhost:8080/"
        },
        "id": "w4kTe7Oks5JK",
        "outputId": "8b92dfe5-2a1c-4406-9517-0940f0a0b399"
      },
      "execution_count": 33,
      "outputs": [
        {
          "output_type": "execute_result",
          "data": {
            "text/plain": [
              "<All keys matched successfully>"
            ]
          },
          "metadata": {},
          "execution_count": 33
        }
      ]
    },
    {
      "cell_type": "code",
      "source": [
        "predictions = modelRNNwithPretrainedWordEmbeddings(process_for_prediction(texts)[0],process_for_prediction(texts)[1])\n",
        "predictions = torch.sigmoid(predictions)"
      ],
      "metadata": {
        "id": "TC7JvyTHtTNN"
      },
      "execution_count": 34,
      "outputs": []
    },
    {
      "cell_type": "code",
      "source": [
        "for text, prediction in zip(texts,predictions):\n",
        "  if prediction < 0.5:\n",
        "    print(text + \"    is no joke\")\n",
        "  else:\n",
        "    print(text+ \"   is a joke\")"
      ],
      "metadata": {
        "colab": {
          "base_uri": "https://localhost:8080/"
        },
        "id": "qd_Gi8_Rtn2R",
        "outputId": "05e95208-5cfe-4c57-cf00-cc9338f4d222"
      },
      "execution_count": 35,
      "outputs": [
        {
          "output_type": "stream",
          "name": "stdout",
          "text": [
            "What kind of candy do astronauts like? Mars bars.   is a joke\n",
            "The weather is fine today. Clear sky and no clouds.   is a joke\n",
            "What falls, but never needs a bandage? The rain.   is a joke\n",
            "president biden will have a speech before congres on Friday    is no joke\n",
            "Anna study for her last exam in this semester. She wants to pass with best grade    is no joke\n",
            "that was so bad    is no joke\n"
          ]
        }
      ]
    },
    {
      "cell_type": "markdown",
      "source": [
        "### LSTM z word embedingiem"
      ],
      "metadata": {
        "id": "h4oqCM3YIwDP"
      }
    },
    {
      "cell_type": "code",
      "source": [
        "class SentimentAmalysisLSTMwithPretrainedWordEmbeddings(nn.Module):\n",
        "    def __init__(self, vocab_size, embedding_dim, hidden_dim, output_dim, n_layers, bidirectional, dropout, pad_idx, pretrained_embeddings):\n",
        "        super().__init__()\n",
        "        self.embedding = nn.Embedding(vocab_size, embedding_dim, padding_idx=pad_idx)\n",
        "        self.embedding.weight.data.copy_(pretrained_embeddings)\n",
        "        self.embedding.weight.requires_grad = False\n",
        "        self.lstm = nn.LSTM(embedding_dim, hidden_dim, num_layers=n_layers, bidirectional=bidirectional, dropout=dropout)\n",
        "        self.fc = nn.Linear(hidden_dim * 2, output_dim)\n",
        "        self.dropout = nn.Dropout(dropout)\n",
        "\n",
        "    def forward(self, text, text_lengths):\n",
        "        embedded = self.dropout(self.embedding(text))\n",
        "        packed_embedded = nn.utils.rnn.pack_padded_sequence(embedded, text_lengths.to('cpu'), batch_first=True, enforce_sorted=False)\n",
        "        packed_output, (hidden, cell) = self.lstm(packed_embedded)\n",
        "        hidden = self.dropout(torch.cat((hidden[-2,:,:], hidden[-1,:,:]), dim=1))\n",
        "        return self.fc(hidden.squeeze(0))"
      ],
      "metadata": {
        "id": "IrkCrslrIqZ-"
      },
      "execution_count": 36,
      "outputs": []
    },
    {
      "cell_type": "code",
      "source": [
        "INPUT_DIM = len(vocab)\n",
        "EMBEDDING_DIM = 100\n",
        "HIDDEN_DIM = 256\n",
        "OUTPUT_DIM = 1\n",
        "N_LAYERS = 2\n",
        "BIDIRECTIONAL = True\n",
        "DROPOUT = 0.5\n",
        "PAD_IDX = vocab['<pad>']"
      ],
      "metadata": {
        "id": "Qfo_KMF7LBh-"
      },
      "execution_count": 37,
      "outputs": []
    },
    {
      "cell_type": "code",
      "source": [
        "embedding_matrix = torch.zeros((INPUT_DIM, EMBEDDING_DIM))\n",
        "\n",
        "# dodajemy warunek jeśli vocab jest obiektem Vocab z torchtext\n",
        "for i, word in enumerate(vocab.get_itos()):  # get_itos() zwraca listę tokenów w słowniku vocab\n",
        "    if word in glove.stoi:\n",
        "        embedding_matrix[i] = glove.vectors[glove.stoi[word]]\n",
        "    # w przeciwnym razie zainicjalizujemy embedding jako wektor zer"
      ],
      "metadata": {
        "id": "Cnff_sQHqlos"
      },
      "execution_count": 38,
      "outputs": []
    },
    {
      "cell_type": "code",
      "source": [
        "modelLSTMwithPretrainedWordEmbeddings = SentimentAmalysisLSTMwithPretrainedWordEmbeddings(INPUT_DIM, EMBEDDING_DIM, HIDDEN_DIM, OUTPUT_DIM, N_LAYERS, BIDIRECTIONAL, DROPOUT, PAD_IDX, embedding_matrix)\n",
        "\n",
        "print(f'Model ma {count_parameters(modelLSTMwithPretrainedWordEmbeddings):,} parametrów')"
      ],
      "metadata": {
        "id": "knffm861Jl8X",
        "colab": {
          "base_uri": "https://localhost:8080/"
        },
        "outputId": "f871487d-379f-4d30-aa9d-3463605e60db"
      },
      "execution_count": 39,
      "outputs": [
        {
          "output_type": "stream",
          "name": "stdout",
          "text": [
            "Model ma 2,310,657 parametrów\n"
          ]
        }
      ]
    },
    {
      "cell_type": "code",
      "source": [
        "optimizer = optim.SGD(modelLSTMwithPretrainedWordEmbeddings.parameters(), lr=1e-3)\n",
        "criterion = nn.BCEWithLogitsLoss()\n",
        "# device = torch.device(\"cuda\" if torch.cuda.is_available() else \"cpu\")\n",
        "# modelLSTMwithPretrainedWordEmbeddings = modelLSTMwithPretrainedWordEmbeddings.to(device)\n",
        "# criterion = criterion.to(device)"
      ],
      "metadata": {
        "id": "31nc9ax2Mzm6"
      },
      "execution_count": null,
      "outputs": []
    },
    {
      "cell_type": "code",
      "source": [
        "def train(model, iterator, optimizer, criterion):\n",
        "    epoch_loss = 0\n",
        "    epoch_acc = 0\n",
        "    model.train()\n",
        "    for labels, text, text_lengths in iterator:\n",
        "        optimizer.zero_grad()\n",
        "        predictions = model(text, text_lengths).squeeze(1)\n",
        "        loss = criterion(predictions, labels)\n",
        "        acc = accuracy(predictions, labels)\n",
        "        loss.backward()\n",
        "        optimizer.step()\n",
        "        epoch_loss += loss.item()\n",
        "        epoch_acc += acc.item()\n",
        "    return epoch_loss / len(iterator), epoch_acc / len(iterator)\n",
        "\n",
        "def evaluate(model, iterator, criterion):\n",
        "    epoch_loss = 0\n",
        "    epoch_acc = 0\n",
        "    model.eval()\n",
        "    with torch.no_grad():\n",
        "        for labels, text, text_lengths in iterator:\n",
        "            predictions = model(text, text_lengths).squeeze(1)\n",
        "            loss = criterion(predictions, labels)\n",
        "            acc = accuracy(predictions, labels)\n",
        "            epoch_loss += loss.item()\n",
        "            epoch_acc += acc.item()\n",
        "    return epoch_loss / len(iterator), epoch_acc / len(iterator)"
      ],
      "metadata": {
        "id": "ot02gcpcPn1_"
      },
      "execution_count": null,
      "outputs": []
    },
    {
      "cell_type": "code",
      "source": [
        "N_EPOCHS = 5\n",
        "best_valid_loss = float('inf')\n",
        "model_save_name = 'lstm-with-embeddings-model.pt'\n",
        "model_path = f\"/content/drive/MyDrive/Semestr III/ZUM/humor_detection_dataset/{model_save_name}\"\n",
        "\n",
        "for epoch in range(N_EPOCHS):\n",
        "\n",
        "    start_time = time.time()\n",
        "\n",
        "    train_loss, train_acc = train(modelLSTMwithPretrainedWordEmbeddings, train_dataloader, optimizer, criterion)\n",
        "    valid_loss, valid_acc = evaluate(modelLSTMwithPretrainedWordEmbeddings, val_dataloader, criterion)\n",
        "\n",
        "    end_time = time.time()\n",
        "    epoch_mins, epoch_secs = epoch_time(start_time, end_time)\n",
        "\n",
        "    if valid_loss < best_valid_loss:\n",
        "        best_valid_loss = valid_loss\n",
        "        torch.save(modelLSTMwithPretrainedWordEmbeddings.state_dict(), 'lstm-with-embeddings-model.pt')\n",
        "        torch.save(modelRNNwithPretrainedWordEmbeddings.state_dict(), model_path)\n",
        "\n",
        "    print(f'Epoch: {epoch+1:02} | Epoch Time: {epoch_mins}m {epoch_secs}s')\n",
        "    print(f'\\tTrain Loss: {train_loss:.3f} | Train Acc: {train_acc*100:.2f}%')\n",
        "    print(f'\\t Val. Loss: {valid_loss:.3f} |  Val. Acc: {valid_acc*100:.2f}%')"
      ],
      "metadata": {
        "id": "9rFJqe0xQLz2"
      },
      "execution_count": null,
      "outputs": []
    },
    {
      "cell_type": "code",
      "source": [
        "model_save_name = 'lstm-with-embeddings-model.pt'\n",
        "model_path = f\"/content/drive/MyDrive/Semestr III/ZUM/humor_detection_dataset/{model_save_name}\"\n",
        "modelLSTMwithPretrainedWordEmbeddings.load_state_dict(torch.load(model_path))"
      ],
      "metadata": {
        "colab": {
          "base_uri": "https://localhost:8080/"
        },
        "id": "woF255xRm79w",
        "outputId": "0ce09b42-f2e6-4296-fa1d-8d398eb2fd61"
      },
      "execution_count": 40,
      "outputs": [
        {
          "output_type": "execute_result",
          "data": {
            "text/plain": [
              "<All keys matched successfully>"
            ]
          },
          "metadata": {},
          "execution_count": 40
        }
      ]
    },
    {
      "cell_type": "code",
      "source": [
        "predictions = modelLSTMwithPretrainedWordEmbeddings(process_for_prediction(texts)[0],process_for_prediction(texts)[1])\n",
        "predictions = torch.sigmoid(predictions)"
      ],
      "metadata": {
        "id": "8ErekQ4HoNnP"
      },
      "execution_count": 56,
      "outputs": []
    },
    {
      "cell_type": "code",
      "source": [
        "print(predictions)"
      ],
      "metadata": {
        "colab": {
          "base_uri": "https://localhost:8080/"
        },
        "id": "ixifFaYImES0",
        "outputId": "51a2be8b-3311-4ea6-af53-355a79293fb3"
      },
      "execution_count": 59,
      "outputs": [
        {
          "output_type": "stream",
          "name": "stdout",
          "text": [
            "tensor([[0.5259],\n",
            "        [0.5218],\n",
            "        [0.5270],\n",
            "        [0.4846],\n",
            "        [0.4901],\n",
            "        [0.5211]], grad_fn=<SigmoidBackward0>)\n"
          ]
        }
      ]
    },
    {
      "cell_type": "code",
      "source": [
        "for text, prediction in zip(texts,predictions):\n",
        "  if prediction < 0.5:\n",
        "    print(text + \"    is no joke\")\n",
        "  else:\n",
        "    print(text+ \"   is a joke\")"
      ],
      "metadata": {
        "id": "AuLYmjbfoUKR",
        "colab": {
          "base_uri": "https://localhost:8080/"
        },
        "outputId": "efe682cf-7ada-4cca-f94a-0658ba39bd1f"
      },
      "execution_count": 60,
      "outputs": [
        {
          "output_type": "stream",
          "name": "stdout",
          "text": [
            "What kind of candy do astronauts like? Mars bars.   is a joke\n",
            "The weather is fine today. Clear sky and no clouds.   is a joke\n",
            "What falls, but never needs a bandage? The rain.   is a joke\n",
            "president biden will have a speech before congres on Friday    is no joke\n",
            "Anna study for her last exam in this semester. She wants to pass with best grade    is no joke\n",
            "that was so bad   is a joke\n"
          ]
        }
      ]
    },
    {
      "cell_type": "markdown",
      "source": [
        "Fine tune Albert-Base-v2"
      ],
      "metadata": {
        "id": "JIz3h-1xHKxf"
      }
    },
    {
      "cell_type": "code",
      "source": [
        "from transformers import AutoTokenizer\n",
        "\n",
        "model_checkpoint = 'albert-base-v2'\n",
        "# model_checkpoint = \"distilbert-base-uncased\"\n",
        "tokenizer = AutoTokenizer.from_pretrained(model_checkpoint, use_fast=True)"
      ],
      "metadata": {
        "id": "w_o2kxyjQO1j",
        "colab": {
          "base_uri": "https://localhost:8080/"
        },
        "outputId": "8b74376e-58fe-4b1d-fff8-a7cc3d1b1c6b"
      },
      "execution_count": null,
      "outputs": [
        {
          "output_type": "stream",
          "name": "stderr",
          "text": [
            "/usr/local/lib/python3.10/dist-packages/huggingface_hub/utils/_token.py:72: UserWarning: \n",
            "The secret `HF_TOKEN` does not exist in your Colab secrets.\n",
            "To authenticate with the Hugging Face Hub, create a token in your settings tab (https://huggingface.co/settings/tokens), set it as secret in your Google Colab and restart your session.\n",
            "You will be able to reuse this secret in all of your notebooks.\n",
            "Please note that authentication is recommended but still optional to access public models or datasets.\n",
            "  warnings.warn(\n"
          ]
        }
      ]
    },
    {
      "cell_type": "code",
      "source": [
        "!pip install accelerate -U"
      ],
      "metadata": {
        "id": "L1-VxrhKd2gm"
      },
      "execution_count": null,
      "outputs": []
    },
    {
      "cell_type": "code",
      "source": [
        "!pip install datasets -U"
      ],
      "metadata": {
        "id": "SExhyq4QGDtK"
      },
      "execution_count": null,
      "outputs": []
    },
    {
      "cell_type": "code",
      "source": [
        "train_data[0]"
      ],
      "metadata": {
        "colab": {
          "base_uri": "https://localhost:8080/"
        },
        "id": "vCFR6itBKD0t",
        "outputId": "f8f5504c-00e0-4d1a-db78-66358f4c8144"
      },
      "execution_count": null,
      "outputs": [
        {
          "output_type": "execute_result",
          "data": {
            "text/plain": [
              "('What do you call a mexican ghost? a juanting.', True)"
            ]
          },
          "metadata": {},
          "execution_count": 15
        }
      ]
    },
    {
      "cell_type": "code",
      "source": [
        "train_df=pd.DataFrame.from_records(train_data, columns=[\"text\",\"label\"])\n",
        "val_df=pd.DataFrame.from_records(val_data, columns=[\"text\",\"label\"])\n",
        "test_df=pd.DataFrame.from_records(test_data, columns=[\"text\",\"label\"])"
      ],
      "metadata": {
        "id": "8ReOkpNipGoL"
      },
      "execution_count": null,
      "outputs": []
    },
    {
      "cell_type": "code",
      "source": [
        "train_df = train_df.replace([True, False],[1,0])\n",
        "val_df = val_df.replace([True, False],[1,0])\n",
        "test_df = test_df.replace([True, False],[1,0])"
      ],
      "metadata": {
        "id": "kT178iQgP5JG"
      },
      "execution_count": null,
      "outputs": []
    },
    {
      "cell_type": "code",
      "source": [
        "from datasets import Dataset\n",
        "train_ds = Dataset.from_pandas(train_df, split='train[:100%]')\n",
        "print(train_ds)"
      ],
      "metadata": {
        "id": "ZLVtfU3TrJpC",
        "colab": {
          "base_uri": "https://localhost:8080/"
        },
        "outputId": "45dd39ae-0611-4146-d615-78b77dae2e17"
      },
      "execution_count": null,
      "outputs": [
        {
          "output_type": "stream",
          "name": "stdout",
          "text": [
            "Dataset({\n",
            "    features: ['text', 'label'],\n",
            "    num_rows: 160000\n",
            "})\n"
          ]
        }
      ]
    },
    {
      "cell_type": "code",
      "source": [
        "val_ds = Dataset.from_pandas(val_df, split='val[:100%]')\n",
        "print(val_ds)"
      ],
      "metadata": {
        "id": "Uf_Y5UygpLgd",
        "colab": {
          "base_uri": "https://localhost:8080/"
        },
        "outputId": "2a23d9f5-10d4-4083-9b30-f8f6f17fd77a"
      },
      "execution_count": null,
      "outputs": [
        {
          "output_type": "stream",
          "name": "stdout",
          "text": [
            "Dataset({\n",
            "    features: ['text', 'label'],\n",
            "    num_rows: 20000\n",
            "})\n"
          ]
        }
      ]
    },
    {
      "cell_type": "code",
      "source": [
        "test_ds = Dataset.from_pandas(test_df, split='test[:100%]')\n",
        "print(test_ds)"
      ],
      "metadata": {
        "id": "5fkrpU9bpQ9K",
        "colab": {
          "base_uri": "https://localhost:8080/"
        },
        "outputId": "58e9900b-524a-45f7-8787-bcbd7ce08a2b"
      },
      "execution_count": null,
      "outputs": [
        {
          "output_type": "stream",
          "name": "stdout",
          "text": [
            "Dataset({\n",
            "    features: ['text', 'label'],\n",
            "    num_rows: 20000\n",
            "})\n"
          ]
        }
      ]
    },
    {
      "cell_type": "code",
      "source": [
        "def process(x):\n",
        "  return tokenizer(x['text']) # , padding=True, truncation=True, return_tensors=\"pt\"\n",
        "\n",
        "train_ds = train_ds.map(process)\n",
        "eval_ds = val_ds.map(process)\n",
        "test_ds = test_ds.map(process)"
      ],
      "metadata": {
        "id": "xcDqSOF6ipOn",
        "colab": {
          "base_uri": "https://localhost:8080/",
          "height": 113,
          "referenced_widgets": [
            "e35a28fbe8504cf0a9a4d9a9b8bad56f",
            "f20fd78f02c14bf982c8bb42c411a088",
            "3d129df872844fd58007ee36b97b1c90",
            "96a86eb53a9d431fb312a4f2a385faca",
            "75cbb1c9d3f94dffb66a337324c6401f",
            "6431a852c25d4cd6bba63ea991f5f9bd",
            "5e294e489ab84c37bad49c2f0d550534",
            "e1910f8065c94174837e3b0a6fb5c0d1",
            "775033a21d994631a19860b9e8e50faa",
            "f9b6337ce6b144a29d3f826843653f50",
            "0afc2406f5cf40bfa499d00165618450",
            "d454cb97df75494fa6fa64abcb0be06c",
            "4b17dead8cb445c3bfc176feadf4ab94",
            "287b3ab383e546d2814ab0ca86c555f0",
            "840a7bfd672644ecb38d12f0087347a0",
            "7ecd4595ea7846b1bb9071fba0bd2d62",
            "73982eef1008480b8ded76df3bee7960",
            "8b2880c45b1e46ba9519af9eca8eb57f",
            "bf106325f76f468e8ddfa8287dc55769",
            "0a7f20c47ab64674a3cb4b7a9fe9665d",
            "083eb0dd157041e8acde770e22509091",
            "e535ede504144e7eb06307d4da31b8bc",
            "79ccb698ff2e470289cde8e6e04fca9a",
            "e4d42cc5f4314df49af425f52c65c1f1",
            "b8f9b4d73f154211b3f3af54229ddfcd",
            "a646e90f25d444beb8bcdd174256d00e",
            "7b6208634aef42e1b1ed9f7696edd7f8",
            "e895f3d01de245f1adfc95aa1a2e0af2",
            "65a401c236cc4f53a51d121c2f4f04cf",
            "314cb239cbf54deb92bf2edafa4444eb",
            "8eecb0f3d35f46a8bb7ba6d8014ad180",
            "502fa3cee321424ba70a54a6e6666e42",
            "880ed8d2759d4538bf3c14acb4961dd2"
          ]
        },
        "outputId": "e536606b-cd83-47c0-bdf2-a479166a3c79"
      },
      "execution_count": null,
      "outputs": [
        {
          "output_type": "display_data",
          "data": {
            "text/plain": [
              "Map:   0%|          | 0/160000 [00:00<?, ? examples/s]"
            ],
            "application/vnd.jupyter.widget-view+json": {
              "version_major": 2,
              "version_minor": 0,
              "model_id": "e35a28fbe8504cf0a9a4d9a9b8bad56f"
            }
          },
          "metadata": {}
        },
        {
          "output_type": "display_data",
          "data": {
            "text/plain": [
              "Map:   0%|          | 0/20000 [00:00<?, ? examples/s]"
            ],
            "application/vnd.jupyter.widget-view+json": {
              "version_major": 2,
              "version_minor": 0,
              "model_id": "d454cb97df75494fa6fa64abcb0be06c"
            }
          },
          "metadata": {}
        },
        {
          "output_type": "display_data",
          "data": {
            "text/plain": [
              "Map:   0%|          | 0/20000 [00:00<?, ? examples/s]"
            ],
            "application/vnd.jupyter.widget-view+json": {
              "version_major": 2,
              "version_minor": 0,
              "model_id": "79ccb698ff2e470289cde8e6e04fca9a"
            }
          },
          "metadata": {}
        }
      ]
    },
    {
      "cell_type": "code",
      "source": [
        "eval_ds[0]"
      ],
      "metadata": {
        "id": "OnMQeETH3VBn"
      },
      "execution_count": null,
      "outputs": []
    },
    {
      "cell_type": "code",
      "source": [
        "from transformers import AutoModelForSequenceClassification, TrainingArguments, Trainer\n",
        "\n",
        "num_labels = 2\n",
        "model = AutoModelForSequenceClassification.from_pretrained(model_checkpoint, num_labels=num_labels)"
      ],
      "metadata": {
        "id": "Ez_fYmN6QP_9",
        "colab": {
          "base_uri": "https://localhost:8080/",
          "height": 208,
          "referenced_widgets": [
            "a250a11b7eee4d7e8120f79c3016eba7",
            "a8f21aa6ced14f67a53df8dc690b05ca",
            "3628017753b04944a456b84d6e204d3f",
            "7b3e35ae93d04653a8d81579ed8faf85",
            "e26712fd4f784042a4bd12a0284473e6",
            "552b4e6398fc45459acbc9701cbb3478",
            "be2960c8164a42f2bedca9f856516142",
            "9b3242cd4e664fab85852719f9228bf2",
            "d8ed011f1a36427ea0dc43b9e6c89bfb",
            "931bb84569e64ea1b748453358a231c1",
            "e54b49a4001140aba40e3c49dd96ef7b"
          ]
        },
        "outputId": "563c77e4-7a8b-468b-a516-0bbcec5f3b96"
      },
      "execution_count": null,
      "outputs": [
        {
          "output_type": "stream",
          "name": "stderr",
          "text": [
            "/usr/local/lib/python3.10/dist-packages/huggingface_hub/utils/_token.py:72: UserWarning: \n",
            "The secret `HF_TOKEN` does not exist in your Colab secrets.\n",
            "To authenticate with the Hugging Face Hub, create a token in your settings tab (https://huggingface.co/settings/tokens), set it as secret in your Google Colab and restart your session.\n",
            "You will be able to reuse this secret in all of your notebooks.\n",
            "Please note that authentication is recommended but still optional to access public models or datasets.\n",
            "  warnings.warn(\n"
          ]
        },
        {
          "output_type": "display_data",
          "data": {
            "text/plain": [
              "model.safetensors:   0%|          | 0.00/47.4M [00:00<?, ?B/s]"
            ],
            "application/vnd.jupyter.widget-view+json": {
              "version_major": 2,
              "version_minor": 0,
              "model_id": "a250a11b7eee4d7e8120f79c3016eba7"
            }
          },
          "metadata": {}
        },
        {
          "output_type": "stream",
          "name": "stderr",
          "text": [
            "Some weights of AlbertForSequenceClassification were not initialized from the model checkpoint at albert-base-v2 and are newly initialized: ['classifier.weight', 'classifier.bias']\n",
            "You should probably TRAIN this model on a down-stream task to be able to use it for predictions and inference.\n"
          ]
        }
      ]
    },
    {
      "cell_type": "code",
      "source": [
        "batch_size=64\n",
        "args = TrainingArguments(\n",
        "    f'{model_checkpoint}_sentiment_analysis',\n",
        "    evaluation_strategy = 'epoch',\n",
        "    save_strategy = 'epoch',\n",
        "    learning_rate = 2e-5,\n",
        "    per_device_train_batch_size = batch_size,\n",
        "    per_device_eval_batch_size = batch_size,\n",
        "    num_train_epochs = 5,\n",
        "    weight_decay = 0.01,\n",
        "    load_best_model_at_end = True,\n",
        "    metric_for_best_model = 'accuracy'\n",
        ")"
      ],
      "metadata": {
        "id": "0RDG8b3ZeAj6"
      },
      "execution_count": null,
      "outputs": []
    },
    {
      "cell_type": "code",
      "source": [
        "\n",
        "from datasets import load_metric\n",
        "import numpy as np\n",
        "\n",
        "metric = load_metric('glue', 'sst2')\n",
        "\n",
        "def compute_metrics(eval_preds):\n",
        "  logits, labels = eval_preds\n",
        "  predictions = np.argmax(logits, axis=-1)\n",
        "  return metric.compute(predictions=predictions, references=labels)\n",
        "\n"
      ],
      "metadata": {
        "id": "invObJ_TfVjS",
        "colab": {
          "base_uri": "https://localhost:8080/",
          "height": 173,
          "referenced_widgets": [
            "f98ed82f26de4b1d8fd4baed0b35bac3",
            "6bd03484c4b64d64a2ce7deac3de236e",
            "0f2d53b46b714146afc14efaeef5c69f",
            "850d216332f24cb3a64e769cd67334b4",
            "8d75f783db944d5bb7b67c2484e26db7",
            "4a5d1bcc0f1d45ed99760b61fec31fb3",
            "5e9378af301c4c19a5642e71d4a612ee",
            "6c882a0685994f85a4114507191ca8d4",
            "117fb95baad4460382988691d3696cab",
            "d9d8b0a764c644a6a3d3502c4f2a3b1c",
            "34b76c57e180401cab31a0e4ca245556"
          ]
        },
        "outputId": "6dcf69f1-fb2b-41bb-c495-1f2b7664624d"
      },
      "execution_count": null,
      "outputs": [
        {
          "output_type": "stream",
          "name": "stderr",
          "text": [
            "<ipython-input-24-beeb781b4109>:4: FutureWarning: load_metric is deprecated and will be removed in the next major version of datasets. Use 'evaluate.load' instead, from the new library 🤗 Evaluate: https://huggingface.co/docs/evaluate\n",
            "  metric = load_metric('glue', 'sst2')\n",
            "/usr/local/lib/python3.10/dist-packages/datasets/load.py:752: FutureWarning: The repository for glue contains custom code which must be executed to correctly load the metric. You can inspect the repository content at https://raw.githubusercontent.com/huggingface/datasets/2.16.1/metrics/glue/glue.py\n",
            "You can avoid this message in future by passing the argument `trust_remote_code=True`.\n",
            "Passing `trust_remote_code=True` will be mandatory to load this metric from the next major release of `datasets`.\n",
            "  warnings.warn(\n"
          ]
        },
        {
          "output_type": "display_data",
          "data": {
            "text/plain": [
              "Downloading builder script:   0%|          | 0.00/1.84k [00:00<?, ?B/s]"
            ],
            "application/vnd.jupyter.widget-view+json": {
              "version_major": 2,
              "version_minor": 0,
              "model_id": "f98ed82f26de4b1d8fd4baed0b35bac3"
            }
          },
          "metadata": {}
        }
      ]
    },
    {
      "cell_type": "code",
      "source": [
        "trainer = Trainer(\n",
        "    model,\n",
        "    args,\n",
        "    train_dataset=train_ds,\n",
        "    eval_dataset=eval_ds,\n",
        "    tokenizer=tokenizer,\n",
        "    compute_metrics=compute_metrics\n",
        ")"
      ],
      "metadata": {
        "id": "zduFV0QWfVb1"
      },
      "execution_count": null,
      "outputs": []
    },
    {
      "cell_type": "code",
      "source": [
        "trainer.evaluate([train_ds[0]])"
      ],
      "metadata": {
        "id": "sY1x3zpZgeU7",
        "colab": {
          "base_uri": "https://localhost:8080/",
          "height": 161
        },
        "outputId": "9beab555-e665-4926-abf1-b4b28b8f8ec4"
      },
      "execution_count": null,
      "outputs": [
        {
          "output_type": "stream",
          "name": "stderr",
          "text": [
            "You're using a AlbertTokenizerFast tokenizer. Please note that with a fast tokenizer, using the `__call__` method is faster than using a method to encode the text followed by a call to the `pad` method to get a padded encoding.\n"
          ]
        },
        {
          "output_type": "display_data",
          "data": {
            "text/plain": [
              "<IPython.core.display.HTML object>"
            ],
            "text/html": [
              "\n",
              "    <div>\n",
              "      \n",
              "      <progress value='1' max='1' style='width:300px; height:20px; vertical-align: middle;'></progress>\n",
              "      [1/1 : < :]\n",
              "    </div>\n",
              "    "
            ]
          },
          "metadata": {}
        },
        {
          "output_type": "execute_result",
          "data": {
            "text/plain": [
              "{'eval_loss': 1.1197936534881592,\n",
              " 'eval_accuracy': 0.0,\n",
              " 'eval_runtime': 0.8268,\n",
              " 'eval_samples_per_second': 1.209,\n",
              " 'eval_steps_per_second': 1.209}"
            ]
          },
          "metadata": {},
          "execution_count": 26
        }
      ]
    },
    {
      "cell_type": "code",
      "source": [
        "results = trainer.train()"
      ],
      "metadata": {
        "id": "I8c1L6KEe7j4",
        "colab": {
          "base_uri": "https://localhost:8080/",
          "height": 252
        },
        "outputId": "6d3c41c2-1905-48c8-8633-fa85b2951309"
      },
      "execution_count": null,
      "outputs": [
        {
          "output_type": "display_data",
          "data": {
            "text/plain": [
              "<IPython.core.display.HTML object>"
            ],
            "text/html": [
              "\n",
              "    <div>\n",
              "      \n",
              "      <progress value='12500' max='12500' style='width:300px; height:20px; vertical-align: middle;'></progress>\n",
              "      [12500/12500 1:15:41, Epoch 5/5]\n",
              "    </div>\n",
              "    <table border=\"1\" class=\"dataframe\">\n",
              "  <thead>\n",
              " <tr style=\"text-align: left;\">\n",
              "      <th>Epoch</th>\n",
              "      <th>Training Loss</th>\n",
              "      <th>Validation Loss</th>\n",
              "      <th>Accuracy</th>\n",
              "    </tr>\n",
              "  </thead>\n",
              "  <tbody>\n",
              "    <tr>\n",
              "      <td>1</td>\n",
              "      <td>0.054100</td>\n",
              "      <td>0.050637</td>\n",
              "      <td>0.982500</td>\n",
              "    </tr>\n",
              "    <tr>\n",
              "      <td>2</td>\n",
              "      <td>0.033100</td>\n",
              "      <td>0.059635</td>\n",
              "      <td>0.984350</td>\n",
              "    </tr>\n",
              "    <tr>\n",
              "      <td>3</td>\n",
              "      <td>0.016600</td>\n",
              "      <td>0.068484</td>\n",
              "      <td>0.985900</td>\n",
              "    </tr>\n",
              "    <tr>\n",
              "      <td>4</td>\n",
              "      <td>0.006400</td>\n",
              "      <td>0.067099</td>\n",
              "      <td>0.987400</td>\n",
              "    </tr>\n",
              "    <tr>\n",
              "      <td>5</td>\n",
              "      <td>0.001700</td>\n",
              "      <td>0.094408</td>\n",
              "      <td>0.987400</td>\n",
              "    </tr>\n",
              "  </tbody>\n",
              "</table><p>"
            ]
          },
          "metadata": {}
        },
        {
          "output_type": "display_data",
          "data": {
            "text/plain": [
              "<IPython.core.display.HTML object>"
            ],
            "text/html": [
              "\n",
              "    <div>\n",
              "      \n",
              "      <progress value='314' max='1' style='width:300px; height:20px; vertical-align: middle;'></progress>\n",
              "      [1/1 14:53]\n",
              "    </div>\n",
              "    "
            ]
          },
          "metadata": {}
        }
      ]
    },
    {
      "cell_type": "code",
      "source": [
        "trainer.model"
      ],
      "metadata": {
        "id": "VVJCgEZJ2-FF",
        "colab": {
          "base_uri": "https://localhost:8080/"
        },
        "outputId": "0d2fc1a4-c9ac-46c9-f5d8-51522170491d"
      },
      "execution_count": null,
      "outputs": [
        {
          "output_type": "execute_result",
          "data": {
            "text/plain": [
              "AlbertForSequenceClassification(\n",
              "  (albert): AlbertModel(\n",
              "    (embeddings): AlbertEmbeddings(\n",
              "      (word_embeddings): Embedding(30000, 128, padding_idx=0)\n",
              "      (position_embeddings): Embedding(512, 128)\n",
              "      (token_type_embeddings): Embedding(2, 128)\n",
              "      (LayerNorm): LayerNorm((128,), eps=1e-12, elementwise_affine=True)\n",
              "      (dropout): Dropout(p=0, inplace=False)\n",
              "    )\n",
              "    (encoder): AlbertTransformer(\n",
              "      (embedding_hidden_mapping_in): Linear(in_features=128, out_features=768, bias=True)\n",
              "      (albert_layer_groups): ModuleList(\n",
              "        (0): AlbertLayerGroup(\n",
              "          (albert_layers): ModuleList(\n",
              "            (0): AlbertLayer(\n",
              "              (full_layer_layer_norm): LayerNorm((768,), eps=1e-12, elementwise_affine=True)\n",
              "              (attention): AlbertAttention(\n",
              "                (query): Linear(in_features=768, out_features=768, bias=True)\n",
              "                (key): Linear(in_features=768, out_features=768, bias=True)\n",
              "                (value): Linear(in_features=768, out_features=768, bias=True)\n",
              "                (attention_dropout): Dropout(p=0, inplace=False)\n",
              "                (output_dropout): Dropout(p=0, inplace=False)\n",
              "                (dense): Linear(in_features=768, out_features=768, bias=True)\n",
              "                (LayerNorm): LayerNorm((768,), eps=1e-12, elementwise_affine=True)\n",
              "              )\n",
              "              (ffn): Linear(in_features=768, out_features=3072, bias=True)\n",
              "              (ffn_output): Linear(in_features=3072, out_features=768, bias=True)\n",
              "              (activation): NewGELUActivation()\n",
              "              (dropout): Dropout(p=0, inplace=False)\n",
              "            )\n",
              "          )\n",
              "        )\n",
              "      )\n",
              "    )\n",
              "    (pooler): Linear(in_features=768, out_features=768, bias=True)\n",
              "    (pooler_activation): Tanh()\n",
              "  )\n",
              "  (dropout): Dropout(p=0.1, inplace=False)\n",
              "  (classifier): Linear(in_features=768, out_features=2, bias=True)\n",
              ")"
            ]
          },
          "metadata": {},
          "execution_count": 37
        }
      ]
    },
    {
      "cell_type": "code",
      "source": [
        "model_save_name = 'albert-base-v2'\n",
        "model_path = f\"/content/drive/MyDrive/Semestr III/ZUM/humor_detection_dataset/{model_save_name}\"\n",
        "trainer.save_model(\"path_to_save\")"
      ],
      "metadata": {
        "id": "7orsDoAGKs75"
      },
      "execution_count": null,
      "outputs": []
    },
    {
      "cell_type": "code",
      "source": [
        "tokenizer = AutoTokenizer.from_pretrained(model_path)\n",
        "model = AutoModelForSequenceClassification.from_pretrained(model_path)"
      ],
      "metadata": {
        "id": "R-wGFmu5hGFz"
      },
      "execution_count": null,
      "outputs": []
    },
    {
      "cell_type": "code",
      "source": [
        "inputs = tokenizer(texts, padding=True, truncation=True, return_tensors='pt')\n",
        "# device = 'cuda' if torch.cuda.is_available() else 'cpu'\n",
        "device = 'cuda'\n",
        "input_ids = inputs['input_ids'] #.to(device)\n",
        "attention_mask = inputs['attention_mask'] #.to(device)\n",
        "with torch.no_grad():\n",
        "  outputs = model(input_ids=input_ids, attention_mask=attention_mask)\n",
        "  logits = outputs.logits\n",
        "  predictions = torch.argmax(logits, dim=-1)\n",
        "\n",
        "for text, prediction in zip(texts,predictions):\n",
        "  if prediction == 0:\n",
        "    print(text + \" is no joke\")\n",
        "  else:\n",
        "    print(text+ \" is a joke\")\n"
      ],
      "metadata": {
        "colab": {
          "base_uri": "https://localhost:8080/"
        },
        "id": "pplCPFgYh7pu",
        "outputId": "93583d09-994d-4de2-9bc3-92862a44ebd7"
      },
      "execution_count": null,
      "outputs": [
        {
          "output_type": "stream",
          "name": "stdout",
          "text": [
            "What kind of candy do astronauts like? Mars bars. is a joke\n",
            "The weather is fine today. Clear sky and no clouds. is a joke\n",
            "What falls, but never needs a bandage? The rain. is a joke\n",
            "president biden will have a speech before congres on Friday is no joke\n",
            "Anna study for her last exam in this semester. She wants to pass with best grade is a joke\n",
            "that was so bad is no joke\n"
          ]
        }
      ]
    },
    {
      "cell_type": "code",
      "source": [],
      "metadata": {
        "id": "LP-eE38MlXB-"
      },
      "execution_count": null,
      "outputs": []
    }
  ]
}